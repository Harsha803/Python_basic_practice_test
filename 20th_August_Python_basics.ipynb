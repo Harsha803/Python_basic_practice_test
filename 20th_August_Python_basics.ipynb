{
 "cells": [
  {
   "cell_type": "markdown",
   "id": "9260902e",
   "metadata": {},
   "source": [
    "# String Based Assignment Problem"
   ]
  },
  {
   "cell_type": "code",
   "execution_count": 1,
   "id": "753eafcb",
   "metadata": {},
   "outputs": [],
   "source": [
    "#1. Write a program to reverse a string."
   ]
  },
  {
   "cell_type": "code",
   "execution_count": 2,
   "id": "a77a47e7",
   "metadata": {},
   "outputs": [
    {
     "name": "stdout",
     "output_type": "stream",
     "text": [
      "norueni\n"
     ]
    }
   ],
   "source": [
    "s = 'ineuron'\n",
    "rs = s[::-1]\n",
    "print(rs)"
   ]
  },
  {
   "cell_type": "code",
   "execution_count": 3,
   "id": "2e84d809",
   "metadata": {},
   "outputs": [],
   "source": [
    "#2. Check if a string is a palindrome."
   ]
  },
  {
   "cell_type": "code",
   "execution_count": 4,
   "id": "44054ee0",
   "metadata": {},
   "outputs": [
    {
     "name": "stdout",
     "output_type": "stream",
     "text": [
      "yes\n"
     ]
    }
   ],
   "source": [
    "def ispalindrome(s):\n",
    "    return s == s[::-1]\n",
    "s = 'malayalam'\n",
    "p = ispalindrome(s)\n",
    "if p:\n",
    "    print(\"yes\")\n",
    "else:\n",
    "    print(\"no\")"
   ]
  },
  {
   "cell_type": "code",
   "execution_count": 5,
   "id": "8371fa55",
   "metadata": {},
   "outputs": [],
   "source": [
    "#3. Convert a string to uppercase."
   ]
  },
  {
   "cell_type": "code",
   "execution_count": 6,
   "id": "1891b0fe",
   "metadata": {},
   "outputs": [
    {
     "data": {
      "text/plain": [
       "'PWSKILLS'"
      ]
     },
     "execution_count": 6,
     "metadata": {},
     "output_type": "execute_result"
    }
   ],
   "source": [
    "s = 'pwskills'\n",
    "U = s.upper()\n",
    "U"
   ]
  },
  {
   "cell_type": "code",
   "execution_count": 7,
   "id": "7fdcf003",
   "metadata": {},
   "outputs": [],
   "source": [
    "#4. Convert a string to lowercase."
   ]
  },
  {
   "cell_type": "code",
   "execution_count": 8,
   "id": "f9ca39be",
   "metadata": {},
   "outputs": [
    {
     "data": {
      "text/plain": [
       "'pwskills'"
      ]
     },
     "execution_count": 8,
     "metadata": {},
     "output_type": "execute_result"
    }
   ],
   "source": [
    "s = 'PWSKILLS'\n",
    "L = s.lower()\n",
    "L"
   ]
  },
  {
   "cell_type": "code",
   "execution_count": 9,
   "id": "cee33203",
   "metadata": {},
   "outputs": [],
   "source": [
    "#5. Count the number of vowels in a string."
   ]
  },
  {
   "cell_type": "code",
   "execution_count": 10,
   "id": "bb6253fa",
   "metadata": {},
   "outputs": [
    {
     "name": "stdout",
     "output_type": "stream",
     "text": [
      "Enter a sentence :\n",
      "a 0\n",
      "e 0\n",
      "i 0\n",
      "o 0\n",
      "u 0\n"
     ]
    }
   ],
   "source": [
    "s = input('Enter a sentence :')\n",
    "vowels = \"aeiou\"\n",
    "for i in vowels:\n",
    "    print(i,s.count(i))"
   ]
  },
  {
   "cell_type": "code",
   "execution_count": 11,
   "id": "b081aa5b",
   "metadata": {},
   "outputs": [],
   "source": [
    "#6. Count the number of consonants in a string."
   ]
  },
  {
   "cell_type": "code",
   "execution_count": 41,
   "id": "9cf32dc7",
   "metadata": {},
   "outputs": [
    {
     "name": "stdout",
     "output_type": "stream",
     "text": [
      "Enter a sentence : ram is a good boy\n",
      "\n",
      "The number of consonant: 11\n"
     ]
    }
   ],
   "source": [
    "s = input('Enter a sentence : ')\n",
    "v =0\n",
    "c =0\n",
    "for i in s:\n",
    "    if (i==\"a\" or i==\"e\" or i==\"i\" or i==\"o\" or i==\"u\"):\n",
    "        v = v+1\n",
    "    else:\n",
    "        c = c+1\n",
    "print(\"\\nThe number of consonant:\",c);\n"
   ]
  },
  {
   "cell_type": "code",
   "execution_count": 13,
   "id": "a8aa7f45",
   "metadata": {},
   "outputs": [],
   "source": [
    "#7. Remove all whitespaces from a string."
   ]
  },
  {
   "cell_type": "code",
   "execution_count": 42,
   "id": "0568ae2f",
   "metadata": {},
   "outputs": [
    {
     "name": "stdout",
     "output_type": "stream",
     "text": [
      "enter a string :ram is a good  boy\n",
      "ramisagoodboy\n"
     ]
    }
   ],
   "source": [
    "s = input('enter a string :')\n",
    "ms = \"\".join(s.split())\n",
    "print(ms)"
   ]
  },
  {
   "cell_type": "code",
   "execution_count": 15,
   "id": "89c95a8a",
   "metadata": {},
   "outputs": [],
   "source": [
    "#8. Find the length of a string without using the `len()` function."
   ]
  },
  {
   "cell_type": "code",
   "execution_count": 25,
   "id": "c945b24a",
   "metadata": {},
   "outputs": [
    {
     "name": "stdout",
     "output_type": "stream",
     "text": [
      "enter a string:ineuron\n",
      "7\n"
     ]
    }
   ],
   "source": [
    "s = input('enter a string:')\n",
    "c = 0\n",
    "for i in s:\n",
    "    c = c+1\n",
    "print(c)"
   ]
  },
  {
   "cell_type": "code",
   "execution_count": 17,
   "id": "deeab3f4",
   "metadata": {},
   "outputs": [],
   "source": [
    "#9. Check if a string contains a specific word."
   ]
  },
  {
   "cell_type": "code",
   "execution_count": 18,
   "id": "8c9f0748",
   "metadata": {},
   "outputs": [
    {
     "name": "stdout",
     "output_type": "stream",
     "text": [
      "True\n"
     ]
    }
   ],
   "source": [
    "s =  'how are you'\n",
    "if 'are' in s:\n",
    "    print('True')"
   ]
  },
  {
   "cell_type": "code",
   "execution_count": 19,
   "id": "237f90fa",
   "metadata": {},
   "outputs": [],
   "source": [
    "#10. Replace a word in a string with another word."
   ]
  },
  {
   "cell_type": "code",
   "execution_count": 20,
   "id": "f8ce0990",
   "metadata": {},
   "outputs": [
    {
     "name": "stdout",
     "output_type": "stream",
     "text": [
      "ram is a bad boy\n"
     ]
    }
   ],
   "source": [
    "s = 'ram is a good boy'\n",
    "re = s.replace('good','bad')\n",
    "print(re)"
   ]
  },
  {
   "cell_type": "code",
   "execution_count": 21,
   "id": "0afd9a62",
   "metadata": {},
   "outputs": [],
   "source": [
    "#11. Count the occurrences of a word in a string."
   ]
  },
  {
   "cell_type": "code",
   "execution_count": 23,
   "id": "59bbc62d",
   "metadata": {},
   "outputs": [
    {
     "name": "stdout",
     "output_type": "stream",
     "text": [
      "3\n"
     ]
    }
   ],
   "source": [
    "s = 'pwskills is a part of ineuron and part of PW and part of society'\n",
    "C = s.count('of')\n",
    "print(C)"
   ]
  },
  {
   "cell_type": "code",
   "execution_count": null,
   "id": "ab746845",
   "metadata": {},
   "outputs": [],
   "source": [
    "#12. Find the first occurrence of a word in a string.(returns index position)"
   ]
  },
  {
   "cell_type": "code",
   "execution_count": 24,
   "id": "1086fdd2",
   "metadata": {},
   "outputs": [
    {
     "name": "stdout",
     "output_type": "stream",
     "text": [
      "30\n"
     ]
    }
   ],
   "source": [
    "s = 'pwskills is a part of ineuron and part of PW and part of society'\n",
    "C = s.find('and')\n",
    "print(C)"
   ]
  },
  {
   "cell_type": "code",
   "execution_count": 25,
   "id": "230cc03e",
   "metadata": {},
   "outputs": [],
   "source": [
    "#13. Find the last occurrence of a word in a string."
   ]
  },
  {
   "cell_type": "code",
   "execution_count": 30,
   "id": "93dfc484",
   "metadata": {},
   "outputs": [
    {
     "name": "stdout",
     "output_type": "stream",
     "text": [
      "9\n"
     ]
    }
   ],
   "source": [
    "s = 'pwskills is a part of ineuron and part of PW and part of society'\n",
    "C = s.rindex('is')\n",
    "print(C)"
   ]
  },
  {
   "cell_type": "code",
   "execution_count": 31,
   "id": "c3e474b4",
   "metadata": {},
   "outputs": [],
   "source": [
    "#14. Split a string into a list of words."
   ]
  },
  {
   "cell_type": "code",
   "execution_count": 33,
   "id": "773f98d5",
   "metadata": {},
   "outputs": [
    {
     "name": "stdout",
     "output_type": "stream",
     "text": [
      "['rama', 'is', 'an', 'engineer']\n"
     ]
    }
   ],
   "source": [
    "s = 'rama is an engineer'\n",
    "ms = s.split()\n",
    "print(ms)"
   ]
  },
  {
   "cell_type": "code",
   "execution_count": 34,
   "id": "67a63cdf",
   "metadata": {},
   "outputs": [],
   "source": [
    "#15. Join a list of words into a string."
   ]
  },
  {
   "cell_type": "code",
   "execution_count": 42,
   "id": "385bbfac",
   "metadata": {},
   "outputs": [
    {
     "name": "stdout",
     "output_type": "stream",
     "text": [
      "ram is a good boy\n"
     ]
    }
   ],
   "source": [
    "l = ['ram','is','a','good','boy']\n",
    "print(\" \".join(l))\n"
   ]
  },
  {
   "cell_type": "code",
   "execution_count": 43,
   "id": "9061c8a3",
   "metadata": {},
   "outputs": [],
   "source": [
    "#16. Convert a string where words are separated by spaces to one where words are separated by underscores."
   ]
  },
  {
   "cell_type": "code",
   "execution_count": 118,
   "id": "bd4b36de",
   "metadata": {},
   "outputs": [
    {
     "name": "stdout",
     "output_type": "stream",
     "text": [
      " p w s k i l l s i s a p a r t o f i n e u r o n \n"
     ]
    }
   ],
   "source": [
    "s = 'pwskillsisapartofineuron'\n",
    "ms ='  '.join(s.split(' '))\n",
    "ls = ms.replace('',' ')\n",
    "print(ls)"
   ]
  },
  {
   "cell_type": "code",
   "execution_count": 69,
   "id": "ce250cca",
   "metadata": {},
   "outputs": [
    {
     "name": "stdout",
     "output_type": "stream",
     "text": [
      "pwskills_is_a_part_of_ineuron\n"
     ]
    }
   ],
   "source": [
    "s = 'pwskills is a part of ineuron'\n",
    "print(s.replace(\" \",\"_\"))"
   ]
  },
  {
   "cell_type": "code",
   "execution_count": 119,
   "id": "d5ed8314",
   "metadata": {},
   "outputs": [],
   "source": [
    "#17. Check if a string starts with a specific word or phrase."
   ]
  },
  {
   "cell_type": "code",
   "execution_count": 120,
   "id": "7a16d932",
   "metadata": {},
   "outputs": [
    {
     "data": {
      "text/plain": [
       "True"
      ]
     },
     "execution_count": 120,
     "metadata": {},
     "output_type": "execute_result"
    }
   ],
   "source": [
    "s = 'pwskills is a part of ineuron'\n",
    "s.startswith('pwskills')"
   ]
  },
  {
   "cell_type": "code",
   "execution_count": 121,
   "id": "45f37e7c",
   "metadata": {},
   "outputs": [],
   "source": [
    "#18. Check if a string ends with a specific word or phrase."
   ]
  },
  {
   "cell_type": "code",
   "execution_count": 122,
   "id": "8ef147cd",
   "metadata": {},
   "outputs": [
    {
     "data": {
      "text/plain": [
       "True"
      ]
     },
     "execution_count": 122,
     "metadata": {},
     "output_type": "execute_result"
    }
   ],
   "source": [
    "s = 'pwskills is a part of ineuron'\n",
    "s.endswith('ineuron')"
   ]
  },
  {
   "cell_type": "code",
   "execution_count": 123,
   "id": "beb4d167",
   "metadata": {},
   "outputs": [],
   "source": [
    "#19. Convert a string to title case (e.g., \"hello world\" to \"Hello World\")."
   ]
  },
  {
   "cell_type": "code",
   "execution_count": 124,
   "id": "7ddb2435",
   "metadata": {},
   "outputs": [
    {
     "data": {
      "text/plain": [
       "'Pwskills Is A Part Of Ineuron'"
      ]
     },
     "execution_count": 124,
     "metadata": {},
     "output_type": "execute_result"
    }
   ],
   "source": [
    "s = 'pwskills is a part of ineuron'\n",
    "s.title()"
   ]
  },
  {
   "cell_type": "code",
   "execution_count": 125,
   "id": "d77664b6",
   "metadata": {},
   "outputs": [],
   "source": [
    "#20. Find the longest word in a string."
   ]
  },
  {
   "cell_type": "code",
   "execution_count": 127,
   "id": "aa365aaa",
   "metadata": {},
   "outputs": [
    {
     "name": "stdout",
     "output_type": "stream",
     "text": [
      "engineer\n"
     ]
    }
   ],
   "source": [
    "s = 'rama is an engineer'\n",
    "sp = s.split()\n",
    "lw = max(sp,key = len)\n",
    "print(lw)"
   ]
  },
  {
   "cell_type": "code",
   "execution_count": 128,
   "id": "2269fc43",
   "metadata": {},
   "outputs": [],
   "source": [
    "#21. Find the shortest word in a string."
   ]
  },
  {
   "cell_type": "code",
   "execution_count": 129,
   "id": "9c248b73",
   "metadata": {},
   "outputs": [
    {
     "name": "stdout",
     "output_type": "stream",
     "text": [
      "is\n"
     ]
    }
   ],
   "source": [
    "s = 'rama is an engineer'\n",
    "sp = s.split()\n",
    "lw = min(sp,key = len)\n",
    "print(lw)"
   ]
  },
  {
   "cell_type": "code",
   "execution_count": 130,
   "id": "5c69414b",
   "metadata": {},
   "outputs": [],
   "source": [
    "#22. Reverse the order of words in a string."
   ]
  },
  {
   "cell_type": "code",
   "execution_count": 132,
   "id": "8e88792b",
   "metadata": {},
   "outputs": [
    {
     "data": {
      "text/plain": [
       "'reenigne na si amar'"
      ]
     },
     "execution_count": 132,
     "metadata": {},
     "output_type": "execute_result"
    }
   ],
   "source": [
    "s = 'rama is an engineer'\n",
    "sp = s[::-1]\n",
    "sp"
   ]
  },
  {
   "cell_type": "code",
   "execution_count": 133,
   "id": "1d3c419f",
   "metadata": {},
   "outputs": [],
   "source": [
    "#23. Check if a string is alphanumeric."
   ]
  },
  {
   "cell_type": "code",
   "execution_count": 134,
   "id": "7e5c135f",
   "metadata": {},
   "outputs": [
    {
     "data": {
      "text/plain": [
       "True"
      ]
     },
     "execution_count": 134,
     "metadata": {},
     "output_type": "execute_result"
    }
   ],
   "source": [
    "s = '123check'\n",
    "s.isalnum()"
   ]
  },
  {
   "cell_type": "code",
   "execution_count": 135,
   "id": "de5b093c",
   "metadata": {},
   "outputs": [],
   "source": [
    "#24. Extract all digits from a string."
   ]
  },
  {
   "cell_type": "code",
   "execution_count": 156,
   "id": "cee6462c",
   "metadata": {},
   "outputs": [
    {
     "name": "stdout",
     "output_type": "stream",
     "text": [
      "2\n",
      "4\n"
     ]
    }
   ],
   "source": [
    "s = \"There are 2 apples for 4 persons\"\n",
    "sp = s.split()\n",
    "for i in sp:\n",
    "    if i.isdigit():\n",
    "        print(i)"
   ]
  },
  {
   "cell_type": "code",
   "execution_count": 157,
   "id": "38fe9822",
   "metadata": {},
   "outputs": [],
   "source": [
    "#25. Extract all alphabets from a string."
   ]
  },
  {
   "cell_type": "code",
   "execution_count": 161,
   "id": "6271908c",
   "metadata": {},
   "outputs": [
    {
     "name": "stdout",
     "output_type": "stream",
     "text": [
      "check\n",
      "hearing\n"
     ]
    }
   ],
   "source": [
    "s = \"check 1234 hearing \"\n",
    "sp = s.split()\n",
    "for i in sp:\n",
    "    if i.isalpha():\n",
    "        print(i)"
   ]
  },
  {
   "cell_type": "code",
   "execution_count": 162,
   "id": "db32c31a",
   "metadata": {},
   "outputs": [],
   "source": [
    "#26. Count the number of uppercase letters in a string."
   ]
  },
  {
   "cell_type": "code",
   "execution_count": 190,
   "id": "0ecf07d7",
   "metadata": {},
   "outputs": [
    {
     "name": "stdout",
     "output_type": "stream",
     "text": [
      "The number of uppercase characters is: 6\n"
     ]
    }
   ],
   "source": [
    "s = 'Pwskills Is A Part Of Ineuron'\n",
    "u = 0\n",
    "for i in s:\n",
    "    if (i.isupper()):\n",
    "        u += 1\n",
    "print(\"The number of uppercase characters is:\",u)"
   ]
  },
  {
   "cell_type": "code",
   "execution_count": 164,
   "id": "b5615050",
   "metadata": {},
   "outputs": [],
   "source": [
    "#27. Count the number of lowercase letters in a string."
   ]
  },
  {
   "cell_type": "code",
   "execution_count": 192,
   "id": "e557237c",
   "metadata": {},
   "outputs": [
    {
     "name": "stdout",
     "output_type": "stream",
     "text": [
      "The number of lowercase characters is: 18\n"
     ]
    }
   ],
   "source": [
    "s = 'Pwskills Is A Part Of Ineuron'\n",
    "l = 0\n",
    "for i in s:\n",
    "    if i.islower():\n",
    "        l += 1\n",
    "print(\"The number of lowercase characters is:\",l)"
   ]
  },
  {
   "cell_type": "code",
   "execution_count": 193,
   "id": "db8ff227",
   "metadata": {},
   "outputs": [],
   "source": [
    "#28. Swap the case of each character in a string."
   ]
  },
  {
   "cell_type": "code",
   "execution_count": 196,
   "id": "4e3b2696",
   "metadata": {},
   "outputs": [
    {
     "name": "stdout",
     "output_type": "stream",
     "text": [
      "pWSKILLS iS a pART oF iNEURON\n"
     ]
    }
   ],
   "source": [
    "s = 'Pwskills Is A Part Of Ineuron'\n",
    "ms = s.swapcase()\n",
    "print(ms)"
   ]
  },
  {
   "cell_type": "code",
   "execution_count": 197,
   "id": "6ff69b29",
   "metadata": {},
   "outputs": [],
   "source": [
    "#29. Remove a specific word from a string."
   ]
  },
  {
   "cell_type": "code",
   "execution_count": 199,
   "id": "2c43fd2e",
   "metadata": {},
   "outputs": [
    {
     "name": "stdout",
     "output_type": "stream",
     "text": [
      "Pwskills Is A  Of Ineuron\n"
     ]
    }
   ],
   "source": [
    "s = 'Pwskills Is A Part Of Ineuron'\n",
    "ms = s.replace('Part','')\n",
    "print(ms)"
   ]
  },
  {
   "cell_type": "code",
   "execution_count": 200,
   "id": "497d0073",
   "metadata": {},
   "outputs": [],
   "source": [
    "#30. Check if a string is a valid email address."
   ]
  },
  {
   "cell_type": "code",
   "execution_count": 202,
   "id": "c603e959",
   "metadata": {},
   "outputs": [
    {
     "name": "stdout",
     "output_type": "stream",
     "text": [
      "Valid Email\n",
      "Valid Email\n",
      "Invalid Email\n"
     ]
    }
   ],
   "source": [
    "import re\n",
    "regex = r'\\b[A-Za-z0-9._%+-]+@[A-Za-z0-9.-]+\\.[A-Z|a-z]{2,7}\\b'\n",
    "def check(email):\n",
    "    if(re.fullmatch(regex, email)):\n",
    "        print(\"Valid Email\")\n",
    "    else:\n",
    "        print(\"Invalid Email\")\n",
    " \n",
    "# Driver Code\n",
    "if __name__ == '__main__':\n",
    " \n",
    "    # Enter the email\n",
    "    email = \"ankitrai326@gmail.com\"\n",
    "    check(email)\n",
    " \n",
    "    email = \"my.ownsite@our-earth.org\"\n",
    "    check(email)\n",
    " \n",
    "    email = \"ankitrai326.com\"\n",
    "    check(email)"
   ]
  },
  {
   "cell_type": "code",
   "execution_count": 1,
   "id": "744c1630",
   "metadata": {},
   "outputs": [],
   "source": [
    "#31. Extract the username from an email address string."
   ]
  },
  {
   "cell_type": "code",
   "execution_count": 12,
   "id": "05321e8a",
   "metadata": {},
   "outputs": [
    {
     "name": "stdout",
     "output_type": "stream",
     "text": [
      "Original Email: lakshmi@example.com\n",
      "Extract the name from the  Email address:\n",
      "lakshmi\n"
     ]
    }
   ],
   "source": [
    "def test(email_address):\n",
    "    data = email_address.split(\"@\")[0]\n",
    "    result = \"\"\n",
    "    for i in data:\n",
    "        if i.isalpha():\n",
    "            result+=i\n",
    "    return result\n",
    "email_address = \"lakshmi@example.com\"\n",
    "print(\"Original Email:\", email_address)\n",
    "print(\"Extract the name from the  Email address:\")\n",
    "print(test(email_address))"
   ]
  },
  {
   "cell_type": "code",
   "execution_count": null,
   "id": "3ac68412",
   "metadata": {},
   "outputs": [],
   "source": [
    "#32. Extract the domain name from an email address string."
   ]
  },
  {
   "cell_type": "code",
   "execution_count": 18,
   "id": "181c127e",
   "metadata": {},
   "outputs": [
    {
     "name": "stdout",
     "output_type": "stream",
     "text": [
      "The original string is :  lakshmi@gmail.com\n",
      "The extracted domain name :  gmail.com\n"
     ]
    }
   ],
   "source": [
    "s = 'lakshmi@gmail.com'\n",
    "print(\"The original string is : \", str(s))\n",
    "res = s[s.index('@') + 1 : ]\n",
    "print(\"The extracted domain name : \" ,str(res))"
   ]
  },
  {
   "cell_type": "code",
   "execution_count": 14,
   "id": "dc5b9998",
   "metadata": {},
   "outputs": [],
   "source": [
    "#33. Replace multiple spaces in a string with a single space."
   ]
  },
  {
   "cell_type": "code",
   "execution_count": 41,
   "id": "fd9d89fe",
   "metadata": {},
   "outputs": [
    {
     "name": "stdout",
     "output_type": "stream",
     "text": [
      "There are 2 apples for 4 persons\n"
     ]
    }
   ],
   "source": [
    "s = \"There   are  2  apples   for  4   persons\"\n",
    "ms = ' '.join(s.split())\n",
    "print(ms)\n"
   ]
  },
  {
   "cell_type": "code",
   "execution_count": 2,
   "id": "60fe1458",
   "metadata": {},
   "outputs": [],
   "source": [
    "#36. Find the frequency of each character in a string."
   ]
  },
  {
   "cell_type": "code",
   "execution_count": 5,
   "id": "cc72b0ad",
   "metadata": {},
   "outputs": [
    {
     "name": "stdout",
     "output_type": "stream",
     "text": [
      "p :1, w :1, s :2, k :1, i :1, l :2, l :2, s :2, "
     ]
    }
   ],
   "source": [
    "s = 'pwskills'\n",
    "for i in s:\n",
    "    f = s.count(i)\n",
    "    print(str(i)+\" :\"+str(f), end=\", \")"
   ]
  },
  {
   "cell_type": "code",
   "execution_count": 6,
   "id": "22a632fa",
   "metadata": {},
   "outputs": [],
   "source": [
    "#37. Remove all punctuation from a string."
   ]
  },
  {
   "cell_type": "code",
   "execution_count": 9,
   "id": "26de76c9",
   "metadata": {},
   "outputs": [
    {
     "name": "stdout",
     "output_type": "stream",
     "text": [
      "hi what is the weather like\n"
     ]
    }
   ],
   "source": [
    "import string\n",
    "s = '!hi. wh?at is the weat[h]er lik?e.'\n",
    "ns = s.translate(s.maketrans('','',string.punctuation))\n",
    "print(ns)"
   ]
  },
  {
   "cell_type": "code",
   "execution_count": 10,
   "id": "721fc560",
   "metadata": {},
   "outputs": [],
   "source": [
    "#38. Check if a string contains only digits."
   ]
  },
  {
   "cell_type": "code",
   "execution_count": 4,
   "id": "bb034338",
   "metadata": {},
   "outputs": [
    {
     "name": "stdout",
     "output_type": "stream",
     "text": [
      "Enter a string:hdi\n",
      "false\n"
     ]
    }
   ],
   "source": [
    "s = input(\"Enter a string:\")\n",
    "if s.isdigit():\n",
    "    print(\"true\")\n",
    "else:\n",
    "    print(\"false\")"
   ]
  },
  {
   "cell_type": "code",
   "execution_count": 5,
   "id": "270326d5",
   "metadata": {},
   "outputs": [],
   "source": [
    "#39. Check if a string contains only alphabets."
   ]
  },
  {
   "cell_type": "code",
   "execution_count": 7,
   "id": "25e2c862",
   "metadata": {},
   "outputs": [
    {
     "name": "stdout",
     "output_type": "stream",
     "text": [
      "enter a string :harhsa\n",
      "true\n"
     ]
    }
   ],
   "source": [
    "s = input(\"enter a string :\")\n",
    "if s.isalpha():\n",
    "    print(\"true\")\n",
    "else:\n",
    "    print(\"false\")"
   ]
  },
  {
   "cell_type": "code",
   "execution_count": 8,
   "id": "6fefe241",
   "metadata": {},
   "outputs": [],
   "source": [
    "#40. Convert a string to a list of characters."
   ]
  },
  {
   "cell_type": "code",
   "execution_count": 23,
   "id": "fb828c79",
   "metadata": {},
   "outputs": [
    {
     "name": "stdout",
     "output_type": "stream",
     "text": [
      "['p', 'w', 's', 'k', 'i', 'l', 'l', 's']\n"
     ]
    }
   ],
   "source": [
    "s = 'pwskills'\n",
    "ms = [i for i in s]\n",
    "print(ms)"
   ]
  },
  {
   "cell_type": "code",
   "execution_count": 1,
   "id": "bda934d8",
   "metadata": {},
   "outputs": [],
   "source": [
    "#44. Find the most frequent word in a string."
   ]
  },
  {
   "cell_type": "code",
   "execution_count": 4,
   "id": "2777f4c6",
   "metadata": {},
   "outputs": [
    {
     "name": "stdout",
     "output_type": "stream",
     "text": [
      "The original list is : ['python is best for future', 'future love python', 'python is best']\n",
      "Word with maximum frequency : python\n"
     ]
    }
   ],
   "source": [
    "from collections import defaultdict\n",
    "test_list = [\"python is best for future\", \"future love python\", \"python is best\"]\n",
    " \n",
    "print(\"The original list is : \" + str(test_list))\n",
    " \n",
    "temp = defaultdict(int)\n",
    " \n",
    "for sub in test_list:\n",
    "    for wrd in sub.split():\n",
    "        temp[wrd] += 1\n",
    " \n",
    "res = max(temp, key=temp.get)\n",
    " \n",
    "# printing result\n",
    "print(\"Word with maximum frequency : \" + str(res))"
   ]
  },
  {
   "cell_type": "code",
   "execution_count": 5,
   "id": "aef114f4",
   "metadata": {},
   "outputs": [],
   "source": [
    "#45. Find all unique words in a string."
   ]
  },
  {
   "cell_type": "code",
   "execution_count": 9,
   "id": "8c8b6fc4",
   "metadata": {},
   "outputs": [
    {
     "name": "stdout",
     "output_type": "stream",
     "text": [
      "{'company', 'from', 'is', 'Apple', 'different'}\n"
     ]
    }
   ],
   "source": [
    "s = 'Apple is different from Apple company'\n",
    "ms = set(s.split(\" \"))\n",
    "print(ms)"
   ]
  },
  {
   "cell_type": "code",
   "execution_count": 10,
   "id": "c1e429a7",
   "metadata": {},
   "outputs": [],
   "source": [
    "#47. Check if a string contains any special characters."
   ]
  },
  {
   "cell_type": "code",
   "execution_count": 13,
   "id": "4365573b",
   "metadata": {},
   "outputs": [
    {
     "name": "stdout",
     "output_type": "stream",
     "text": [
      "String is not accepted\n",
      "String is accepted\n"
     ]
    }
   ],
   "source": [
    "import string\n",
    "\n",
    "def check_string(s):\n",
    "    for c in s:\n",
    "        if c in string.punctuation:\n",
    "            print(\"String is not accepted\")\n",
    "            return\n",
    "    print(\"String is accepted\")\n",
    "\n",
    "# Example usage\n",
    "check_string(\"$data$data\") \n",
    "check_string(\" Ram is boy\")"
   ]
  },
  {
   "cell_type": "code",
   "execution_count": 14,
   "id": "739ce7d8",
   "metadata": {},
   "outputs": [],
   "source": [
    "#48. Remove the nth word from a string."
   ]
  },
  {
   "cell_type": "code",
   "execution_count": 6,
   "id": "edc1f447",
   "metadata": {},
   "outputs": [
    {
     "name": "stdout",
     "output_type": "stream",
     "text": [
      "of\n"
     ]
    }
   ],
   "source": [
    "def nth_word(string, n):\n",
    "    words = string.split()\n",
    "    if 1 <= n <= len(words):\n",
    "        return words[n-1]\n",
    "    else:\n",
    "        return \"Invalid value of N.\"\n",
    "\n",
    "input_string = 'pwskills is a part of ineuron and part of PW and part of society'\n",
    "n = 9\n",
    "print(nth_word(input_string, n))"
   ]
  },
  {
   "cell_type": "code",
   "execution_count": 4,
   "id": "dee059fa",
   "metadata": {},
   "outputs": [],
   "source": [
    "#49. Insert a word at the nth position in a string."
   ]
  },
  {
   "cell_type": "code",
   "execution_count": 13,
   "id": "2af50e58",
   "metadata": {},
   "outputs": [
    {
     "name": "stdout",
     "output_type": "stream",
     "text": [
      "pwskills and ineuron\n"
     ]
    }
   ],
   "source": [
    "s = 'pwskills ineuron'\n",
    "ms = s[:9] +\"and \"+s[9:]\n",
    "print(ms) # inserting word \"and\" at 9th position in a string"
   ]
  },
  {
   "cell_type": "markdown",
   "id": "641dc3d1",
   "metadata": {},
   "source": [
    "# List Based Practice Problem :"
   ]
  },
  {
   "cell_type": "code",
   "execution_count": 14,
   "id": "6b1049d1",
   "metadata": {},
   "outputs": [],
   "source": [
    "#1. Create a list with integers from 1 to 10."
   ]
  },
  {
   "cell_type": "code",
   "execution_count": 15,
   "id": "8eb4351a",
   "metadata": {},
   "outputs": [
    {
     "name": "stdout",
     "output_type": "stream",
     "text": [
      "[1, 2, 3, 4, 5, 6, 7, 8, 9, 10]\n"
     ]
    }
   ],
   "source": [
    "l = [1,2,3,4,5,6,7,8,9,10]\n",
    "print(l)"
   ]
  },
  {
   "cell_type": "code",
   "execution_count": 16,
   "id": "5e630905",
   "metadata": {},
   "outputs": [],
   "source": [
    "#2. Find the length of a list without using the `len()` function."
   ]
  },
  {
   "cell_type": "code",
   "execution_count": 29,
   "id": "42c88609",
   "metadata": {},
   "outputs": [
    {
     "name": "stdout",
     "output_type": "stream",
     "text": [
      "7\n"
     ]
    }
   ],
   "source": [
    "l = [1,2,3,4,5,6,7]\n",
    "c = 0\n",
    "for i in l:\n",
    "    c += 1\n",
    "print(c)\n"
   ]
  },
  {
   "cell_type": "code",
   "execution_count": 30,
   "id": "c40d5379",
   "metadata": {},
   "outputs": [],
   "source": [
    "#3. Append an element to the end of a list."
   ]
  },
  {
   "cell_type": "code",
   "execution_count": 32,
   "id": "165b5784",
   "metadata": {},
   "outputs": [
    {
     "data": {
      "text/plain": [
       "[1, 2, 3, 4, 5, 6, 7]"
      ]
     },
     "execution_count": 32,
     "metadata": {},
     "output_type": "execute_result"
    }
   ],
   "source": [
    "l = [1,2,3,4,5,6]\n",
    "l.append(7)\n",
    "l"
   ]
  },
  {
   "cell_type": "code",
   "execution_count": 33,
   "id": "7b24bfcf",
   "metadata": {},
   "outputs": [],
   "source": [
    "#4. Insert an element at a specific index in a list."
   ]
  },
  {
   "cell_type": "code",
   "execution_count": 35,
   "id": "dcf88433",
   "metadata": {},
   "outputs": [
    {
     "data": {
      "text/plain": [
       "[1, 2, 3, 4, 5, 6]"
      ]
     },
     "execution_count": 35,
     "metadata": {},
     "output_type": "execute_result"
    }
   ],
   "source": [
    "l = [1,2,4,5,6]\n",
    "l.insert(2,3)\n",
    "l"
   ]
  },
  {
   "cell_type": "code",
   "execution_count": 36,
   "id": "b8379dca",
   "metadata": {},
   "outputs": [],
   "source": [
    "#5. Remove an element from a list by its value."
   ]
  },
  {
   "cell_type": "code",
   "execution_count": 38,
   "id": "99122a34",
   "metadata": {},
   "outputs": [
    {
     "data": {
      "text/plain": [
       "[1, 2, 3, 4, 6]"
      ]
     },
     "execution_count": 38,
     "metadata": {},
     "output_type": "execute_result"
    }
   ],
   "source": [
    "l = [1,2,3,4,5,6]\n",
    "l.remove(5)\n",
    "l"
   ]
  },
  {
   "cell_type": "code",
   "execution_count": 39,
   "id": "3d01ce3c",
   "metadata": {},
   "outputs": [],
   "source": [
    "#6. Remove an element from a list by its index."
   ]
  },
  {
   "cell_type": "code",
   "execution_count": 50,
   "id": "3641aa94",
   "metadata": {},
   "outputs": [
    {
     "data": {
      "text/plain": [
       "[1, 2, 4, 5, 6]"
      ]
     },
     "execution_count": 50,
     "metadata": {},
     "output_type": "execute_result"
    }
   ],
   "source": [
    "l = [1,2,3,4,5,6]\n",
    "del l[2]\n",
    "l"
   ]
  },
  {
   "cell_type": "code",
   "execution_count": 51,
   "id": "75000136",
   "metadata": {},
   "outputs": [
    {
     "data": {
      "text/plain": [
       "[1, 2, 4, 5, 6]"
      ]
     },
     "execution_count": 51,
     "metadata": {},
     "output_type": "execute_result"
    }
   ],
   "source": [
    "#Another way\n",
    "l = [1,2,3,4,5,6]\n",
    "l.pop(2)\n",
    "l"
   ]
  },
  {
   "cell_type": "code",
   "execution_count": 52,
   "id": "65d9f0a2",
   "metadata": {},
   "outputs": [],
   "source": [
    "#7. Check if an element exists in a list."
   ]
  },
  {
   "cell_type": "code",
   "execution_count": 57,
   "id": "d0695101",
   "metadata": {},
   "outputs": [
    {
     "name": "stdout",
     "output_type": "stream",
     "text": [
      "True\n"
     ]
    }
   ],
   "source": [
    "l = [1,2,3,4,5]\n",
    "i = 2\n",
    "if i in l:\n",
    "    print('True')\n",
    "else:\n",
    "    print('False')"
   ]
  },
  {
   "cell_type": "code",
   "execution_count": 58,
   "id": "92fff521",
   "metadata": {},
   "outputs": [],
   "source": [
    "#8. Find the index of the first occurrence of an element in a list."
   ]
  },
  {
   "cell_type": "code",
   "execution_count": 70,
   "id": "d7d17bed",
   "metadata": {},
   "outputs": [
    {
     "data": {
      "text/plain": [
       "3"
      ]
     },
     "execution_count": 70,
     "metadata": {},
     "output_type": "execute_result"
    }
   ],
   "source": [
    "l = [1,2,3,4,4,5,6,4]\n",
    "l.index(4)\n"
   ]
  },
  {
   "cell_type": "code",
   "execution_count": 71,
   "id": "88369bc8",
   "metadata": {},
   "outputs": [],
   "source": [
    "#9. Count the occurrences of an element in a list."
   ]
  },
  {
   "cell_type": "code",
   "execution_count": 73,
   "id": "73066e3c",
   "metadata": {},
   "outputs": [
    {
     "data": {
      "text/plain": [
       "5"
      ]
     },
     "execution_count": 73,
     "metadata": {},
     "output_type": "execute_result"
    }
   ],
   "source": [
    "l = [1,2,3,4,4,5,6,4,4,4]\n",
    "l.count(4)"
   ]
  },
  {
   "cell_type": "code",
   "execution_count": 74,
   "id": "531e2a4c",
   "metadata": {},
   "outputs": [],
   "source": [
    "#10. Reverse the order of elements in a list."
   ]
  },
  {
   "cell_type": "code",
   "execution_count": 75,
   "id": "15ea09a2",
   "metadata": {},
   "outputs": [
    {
     "data": {
      "text/plain": [
       "[7, 6, 5, 4, 3, 2, 1]"
      ]
     },
     "execution_count": 75,
     "metadata": {},
     "output_type": "execute_result"
    }
   ],
   "source": [
    "l = [1,2,3,4,5,6,7]\n",
    "l[::-1]"
   ]
  },
  {
   "cell_type": "code",
   "execution_count": 76,
   "id": "8eba1899",
   "metadata": {},
   "outputs": [],
   "source": [
    "#11. Sort a list in ascending order."
   ]
  },
  {
   "cell_type": "code",
   "execution_count": 85,
   "id": "40455ac8",
   "metadata": {},
   "outputs": [
    {
     "data": {
      "text/plain": [
       "[1, 2, 3, 4, 5, 6, 7]"
      ]
     },
     "execution_count": 85,
     "metadata": {},
     "output_type": "execute_result"
    }
   ],
   "source": [
    "l = [2,4,5,6,7,1,3]\n",
    "l.sort()\n",
    "l"
   ]
  },
  {
   "cell_type": "code",
   "execution_count": 84,
   "id": "f2d3ace8",
   "metadata": {},
   "outputs": [],
   "source": [
    "#12. Sort a list in descending order."
   ]
  },
  {
   "cell_type": "code",
   "execution_count": 87,
   "id": "642db195",
   "metadata": {},
   "outputs": [
    {
     "data": {
      "text/plain": [
       "[7, 6, 5, 4, 3, 2, 1]"
      ]
     },
     "execution_count": 87,
     "metadata": {},
     "output_type": "execute_result"
    }
   ],
   "source": [
    "l = [2,4,5,6,7,1,3]\n",
    "l.sort(reverse=True)\n",
    "l"
   ]
  },
  {
   "cell_type": "code",
   "execution_count": 88,
   "id": "28c0a0d2",
   "metadata": {},
   "outputs": [],
   "source": [
    "#13. Create a list of even numbers from 1 to 20."
   ]
  },
  {
   "cell_type": "code",
   "execution_count": 108,
   "id": "b8602135",
   "metadata": {},
   "outputs": [
    {
     "data": {
      "text/plain": [
       "[2, 4, 6, 8, 10, 12, 4, 16, 18, 20]"
      ]
     },
     "execution_count": 108,
     "metadata": {},
     "output_type": "execute_result"
    }
   ],
   "source": [
    "el = []\n",
    "l = [1,2,3,4,5,6,7,8,9,10,11,12,13,1,4,15,16,17,18,19,20]\n",
    "for i in l:\n",
    "    if (i%2==0):\n",
    "        el.append(i)\n",
    "el"
   ]
  },
  {
   "cell_type": "code",
   "execution_count": 109,
   "id": "b80a0ccf",
   "metadata": {},
   "outputs": [
    {
     "data": {
      "text/plain": [
       "[1, 3, 5, 7, 9, 11, 13, 1, 15, 17, 19]"
      ]
     },
     "execution_count": 109,
     "metadata": {},
     "output_type": "execute_result"
    }
   ],
   "source": [
    "ol=[]\n",
    "l = [1,2,3,4,5,6,7,8,9,10,11,12,13,1,4,15,16,17,18,19,20]\n",
    "for i in l:\n",
    "    if (i%2!=0):\n",
    "        ol.append(i)\n",
    "ol        "
   ]
  },
  {
   "cell_type": "code",
   "execution_count": 110,
   "id": "2c3e0284",
   "metadata": {},
   "outputs": [],
   "source": [
    "#15. Find the sum of all elements in a list."
   ]
  },
  {
   "cell_type": "code",
   "execution_count": 112,
   "id": "e44ab63a",
   "metadata": {},
   "outputs": [
    {
     "name": "stdout",
     "output_type": "stream",
     "text": [
      "21\n"
     ]
    }
   ],
   "source": [
    "sum = 0\n",
    "l = [1,2,3,4,5,6]\n",
    "for i in range(0,6):\n",
    "    sum += l[i]\n",
    "print(sum)\n",
    "    "
   ]
  },
  {
   "cell_type": "code",
   "execution_count": 113,
   "id": "97695670",
   "metadata": {},
   "outputs": [
    {
     "name": "stdout",
     "output_type": "stream",
     "text": [
      "21\n"
     ]
    }
   ],
   "source": [
    "s =0\n",
    "i=0\n",
    "l = [1,2,3,4,5,6]\n",
    "while(i<6):\n",
    "    s +=l[i]\n",
    "    i +=1\n",
    "print(s)"
   ]
  },
  {
   "cell_type": "code",
   "execution_count": 114,
   "id": "398a8188",
   "metadata": {},
   "outputs": [],
   "source": [
    "#16. Find the maximum value in a list."
   ]
  },
  {
   "cell_type": "code",
   "execution_count": 116,
   "id": "e65305d3",
   "metadata": {},
   "outputs": [
    {
     "data": {
      "text/plain": [
       "450"
      ]
     },
     "execution_count": 116,
     "metadata": {},
     "output_type": "execute_result"
    }
   ],
   "source": [
    "l = [1,2,3,450,61,32]\n",
    "nl = max(l)\n",
    "nl"
   ]
  },
  {
   "cell_type": "code",
   "execution_count": 117,
   "id": "b97e352f",
   "metadata": {},
   "outputs": [],
   "source": [
    "#17. Find the minimum value in a list."
   ]
  },
  {
   "cell_type": "code",
   "execution_count": 118,
   "id": "bd0517f5",
   "metadata": {},
   "outputs": [
    {
     "data": {
      "text/plain": [
       "1"
      ]
     },
     "execution_count": 118,
     "metadata": {},
     "output_type": "execute_result"
    }
   ],
   "source": [
    "l = [1,2,3,450,61,32]\n",
    "nl = min(l)\n",
    "nl"
   ]
  },
  {
   "cell_type": "code",
   "execution_count": 119,
   "id": "b11565a5",
   "metadata": {},
   "outputs": [],
   "source": [
    "#18. Create a list of squares of numbers from 1 to 10."
   ]
  },
  {
   "cell_type": "code",
   "execution_count": 124,
   "id": "c110052f",
   "metadata": {},
   "outputs": [
    {
     "data": {
      "text/plain": [
       "[1, 4, 9, 16, 25, 36, 49, 64, 81, 100]"
      ]
     },
     "execution_count": 124,
     "metadata": {},
     "output_type": "execute_result"
    }
   ],
   "source": [
    "nl = []\n",
    "l = [1,2,3,4,5,6,7,8,9,10]\n",
    "for i in l:\n",
    "    #print(i*i,end=\",\")\n",
    "    nl.append(i*i)\n",
    "nl"
   ]
  },
  {
   "cell_type": "code",
   "execution_count": 125,
   "id": "d471e636",
   "metadata": {},
   "outputs": [],
   "source": [
    "#19. Create a list of random numbers."
   ]
  },
  {
   "cell_type": "code",
   "execution_count": 126,
   "id": "9c252265",
   "metadata": {},
   "outputs": [
    {
     "data": {
      "text/plain": [
       "[33, 4, 5, 42, 50, 1, 4, 22, 31]"
      ]
     },
     "execution_count": 126,
     "metadata": {},
     "output_type": "execute_result"
    }
   ],
   "source": [
    "import random\n",
    "rl = []\n",
    "for i in range(1,10):\n",
    "    n = random.randint(1,50)\n",
    "    rl.append(n)\n",
    "rl"
   ]
  },
  {
   "cell_type": "code",
   "execution_count": 127,
   "id": "4201cd0d",
   "metadata": {},
   "outputs": [],
   "source": [
    "#20. Remove duplicates from a list."
   ]
  },
  {
   "cell_type": "code",
   "execution_count": 129,
   "id": "42ad145c",
   "metadata": {},
   "outputs": [
    {
     "data": {
      "text/plain": [
       "[1, 2, 3, 4, 5, 6, 7]"
      ]
     },
     "execution_count": 129,
     "metadata": {},
     "output_type": "execute_result"
    }
   ],
   "source": [
    "l = [1,2,3,3,4,5,5,6,7,5,4]\n",
    "nl= set(l)\n",
    "ml = list(nl)\n",
    "ml"
   ]
  },
  {
   "cell_type": "code",
   "execution_count": 130,
   "id": "ab3030b7",
   "metadata": {},
   "outputs": [],
   "source": [
    "#21. Find the common elements between two lists."
   ]
  },
  {
   "cell_type": "code",
   "execution_count": 137,
   "id": "2d25e2a7",
   "metadata": {},
   "outputs": [
    {
     "data": {
      "text/plain": [
       "[5, 6, 7, 8, 9, 10]"
      ]
     },
     "execution_count": 137,
     "metadata": {},
     "output_type": "execute_result"
    }
   ],
   "source": [
    "l1 = [1,2,3,4,5,6,7,8,9,10]\n",
    "l2 = [5,6,7,8,9,10,11,12,13]\n",
    "l3=[]\n",
    "for i in l1:\n",
    "    for j in l2:\n",
    "        if (i==j):\n",
    "            l3.append(i)\n",
    "l3"
   ]
  },
  {
   "cell_type": "code",
   "execution_count": 138,
   "id": "1ea85c37",
   "metadata": {},
   "outputs": [],
   "source": [
    "#22. Find the difference between two lists."
   ]
  },
  {
   "cell_type": "code",
   "execution_count": 143,
   "id": "4b80dbaa",
   "metadata": {},
   "outputs": [
    {
     "data": {
      "text/plain": [
       "[1, 2, 3, 4]"
      ]
     },
     "execution_count": 143,
     "metadata": {},
     "output_type": "execute_result"
    }
   ],
   "source": [
    "l1 = [1,2,3,4,5,6,7,8,9,10]\n",
    "l2 = [5,6,7,8,9,10,]\n",
    "diff = []\n",
    "for i in l1:\n",
    "    if i not in l2:\n",
    "        diff.append(i)\n",
    "diff"
   ]
  },
  {
   "cell_type": "code",
   "execution_count": 144,
   "id": "a16efcb8",
   "metadata": {},
   "outputs": [],
   "source": [
    "#23. Merge two lists."
   ]
  },
  {
   "cell_type": "code",
   "execution_count": 146,
   "id": "7f515bfe",
   "metadata": {},
   "outputs": [
    {
     "data": {
      "text/plain": [
       "[1, 2, 3, 4, 5, 6, 7, 8, 9, 10, 11, 12, 13, 14, 15, 16, 17]"
      ]
     },
     "execution_count": 146,
     "metadata": {},
     "output_type": "execute_result"
    }
   ],
   "source": [
    "l1 = [1,2,3,4,5,6,7,8,9,10]\n",
    "l2 = [11,12,13,14,15,16,17]\n",
    "l3 = l1+l2\n",
    "l3."
   ]
  },
  {
   "cell_type": "code",
   "execution_count": 147,
   "id": "483f9fdc",
   "metadata": {},
   "outputs": [],
   "source": [
    "#24. Multiply all elements in a list by 2."
   ]
  },
  {
   "cell_type": "code",
   "execution_count": 149,
   "id": "54a2bc0d",
   "metadata": {},
   "outputs": [
    {
     "data": {
      "text/plain": [
       "[2, 4, 6, 8, 10, 12]"
      ]
     },
     "execution_count": 149,
     "metadata": {},
     "output_type": "execute_result"
    }
   ],
   "source": [
    "l = [1,2,3,4,5,6]\n",
    "nl =[]\n",
    "for i in l:\n",
    "    nl.append(i*2)\n",
    "nl"
   ]
  },
  {
   "cell_type": "code",
   "execution_count": 150,
   "id": "163a9a8b",
   "metadata": {},
   "outputs": [],
   "source": [
    "#25. Filter out all even numbers from a list."
   ]
  },
  {
   "cell_type": "code",
   "execution_count": 151,
   "id": "c8cacf10",
   "metadata": {},
   "outputs": [
    {
     "data": {
      "text/plain": [
       "[2, 4, 6, 8, 10, 12, 14, 16, 18, 20]"
      ]
     },
     "execution_count": 151,
     "metadata": {},
     "output_type": "execute_result"
    }
   ],
   "source": [
    "l =[1, 2, 3, 4, 5, 6, 7, 8, 9, 10, 11, 12, 13, 14, 15, 16, 17,18,19,20]\n",
    "el = []\n",
    "for i in l:\n",
    "    if (i%2==0):\n",
    "        el.append(i)\n",
    "el"
   ]
  },
  {
   "cell_type": "code",
   "execution_count": 152,
   "id": "b17d258c",
   "metadata": {},
   "outputs": [],
   "source": [
    "#26. Convert a list of strings to a list of integers."
   ]
  },
  {
   "cell_type": "code",
   "execution_count": 165,
   "id": "7fcdc4ea",
   "metadata": {},
   "outputs": [
    {
     "name": "stdout",
     "output_type": "stream",
     "text": [
      "[1, 2, 3, 4, 5, 6]\n"
     ]
    }
   ],
   "source": [
    "l = ['1','2','3','4','5','6']\n",
    "for i in range(0,6):\n",
    "    l[i] = int(l[i])\n",
    "    \n",
    "print(str(l))"
   ]
  },
  {
   "cell_type": "code",
   "execution_count": 166,
   "id": "377bb076",
   "metadata": {},
   "outputs": [
    {
     "name": "stdout",
     "output_type": "stream",
     "text": [
      "[1, 2, 3, 4, 5, 6]\n"
     ]
    }
   ],
   "source": [
    "#another way\n",
    "l = ['1','2','3','4','5','6']\n",
    "l = [int(i) for i in l]\n",
    "print(str(l))"
   ]
  },
  {
   "cell_type": "code",
   "execution_count": 167,
   "id": "833c2a7a",
   "metadata": {},
   "outputs": [],
   "source": [
    "#27. Convert a list of integers to a list of strings."
   ]
  },
  {
   "cell_type": "code",
   "execution_count": 168,
   "id": "ab28019f",
   "metadata": {},
   "outputs": [
    {
     "name": "stdout",
     "output_type": "stream",
     "text": [
      "['1', '2', '3', '4', '5', '6']\n"
     ]
    }
   ],
   "source": [
    "l = [1, 2, 3, 4, 5, 6]\n",
    "l = [str(i) for i in l]\n",
    "print(list(l))"
   ]
  },
  {
   "cell_type": "code",
   "execution_count": 169,
   "id": "4613b02a",
   "metadata": {},
   "outputs": [],
   "source": [
    "#28. Flatten a nested list."
   ]
  },
  {
   "cell_type": "code",
   "execution_count": 170,
   "id": "d685a8c0",
   "metadata": {},
   "outputs": [
    {
     "data": {
      "text/plain": [
       "[1, 2, 3, 4, 5, 6, 7, 8, 9]"
      ]
     },
     "execution_count": 170,
     "metadata": {},
     "output_type": "execute_result"
    }
   ],
   "source": [
    "l = [[1,2,3],[4,5,6],[7,8,9]]\n",
    "fl = []\n",
    "for i in l:\n",
    "    for j in i:\n",
    "        fl.append(j)\n",
    "fl        "
   ]
  },
  {
   "cell_type": "code",
   "execution_count": 171,
   "id": "85f31aec",
   "metadata": {},
   "outputs": [],
   "source": [
    "#29. Create a list of the first 10 Fibonacci numbers."
   ]
  },
  {
   "cell_type": "code",
   "execution_count": 76,
   "id": "a7c81ca8",
   "metadata": {},
   "outputs": [
    {
     "name": "stdout",
     "output_type": "stream",
     "text": [
      "Enter nterms: 8\n",
      "[0, 1, 1, 2, 3, 5, 8, 13]\n"
     ]
    }
   ],
   "source": [
    "n = int(input('Enter nterms: '))\n",
    "n1 = 0\n",
    "n2 = 1\n",
    "c = 0\n",
    "l = []\n",
    "while c < n:\n",
    "    l.append(n1)\n",
    "    nth = n1+n2\n",
    "    n1 = n2\n",
    "    n2 = nth\n",
    "    c += 1\n",
    "print(l)"
   ]
  },
  {
   "cell_type": "code",
   "execution_count": 175,
   "id": "8636c477",
   "metadata": {},
   "outputs": [],
   "source": [
    "#30. Check if a list is sorted."
   ]
  },
  {
   "cell_type": "code",
   "execution_count": 180,
   "id": "9bdbe58d",
   "metadata": {},
   "outputs": [
    {
     "data": {
      "text/plain": [
       "[1, 2, 3, 4, 5, 6, 7, 8, 9, 10]"
      ]
     },
     "execution_count": 180,
     "metadata": {},
     "output_type": "execute_result"
    }
   ],
   "source": [
    "l = [1,4,3,6,2,7,9,5,8,10]\n",
    "l.sort()\n",
    "l\n",
    "    "
   ]
  },
  {
   "cell_type": "code",
   "execution_count": 181,
   "id": "71232621",
   "metadata": {},
   "outputs": [],
   "source": [
    "#31. Rotate a list to the left by `n` positions."
   ]
  },
  {
   "cell_type": "code",
   "execution_count": 185,
   "id": "5f14c7f9",
   "metadata": {},
   "outputs": [
    {
     "data": {
      "text/plain": [
       "[8, 7, 6, 5, 4, 1, 2, 3]"
      ]
     },
     "execution_count": 185,
     "metadata": {},
     "output_type": "execute_result"
    }
   ],
   "source": [
    "def rl(lst,n):\n",
    "    return list(reversed(lst[n:]))+lst[:n]    \n",
    "l = [1,2,3,4,5,6,7,8]\n",
    "\n",
    "nl = rl(l,3)\n",
    "nl\n"
   ]
  },
  {
   "cell_type": "code",
   "execution_count": 183,
   "id": "6933acf1",
   "metadata": {},
   "outputs": [],
   "source": [
    "#32. Rotate a list to the right by `n` positions."
   ]
  },
  {
   "cell_type": "code",
   "execution_count": 186,
   "id": "b4b81077",
   "metadata": {},
   "outputs": [
    {
     "data": {
      "text/plain": [
       "[8, 7, 6, 1, 2, 3, 4, 5]"
      ]
     },
     "execution_count": 186,
     "metadata": {},
     "output_type": "execute_result"
    }
   ],
   "source": [
    "def rl(lst,n):\n",
    "    return list(reversed(lst[-n:]))+lst[:-n]    \n",
    "l = [1,2,3,4,5,6,7,8]\n",
    "\n",
    "nl = rl(l,3)\n",
    "nl\n"
   ]
  },
  {
   "cell_type": "code",
   "execution_count": 187,
   "id": "eb6866be",
   "metadata": {},
   "outputs": [],
   "source": [
    "#33. Create a list of prime numbers up to 50."
   ]
  },
  {
   "cell_type": "code",
   "execution_count": 200,
   "id": "141fc046",
   "metadata": {},
   "outputs": [
    {
     "data": {
      "text/plain": [
       "[2, 3, 5, 7, 11, 13, 17, 19, 23, 29, 31, 37, 41, 43, 47]"
      ]
     },
     "execution_count": 200,
     "metadata": {},
     "output_type": "execute_result"
    }
   ],
   "source": [
    "nl = []\n",
    "for i in range(2,50): \n",
    "    for j in range(2,50):\n",
    "        if i%j == 0:\n",
    "            break\n",
    "    if i == j:\n",
    "       # print(i,end=\",\") \n",
    "        nl.append(i)\n",
    "nl"
   ]
  },
  {
   "cell_type": "code",
   "execution_count": 203,
   "id": "9a6998a3",
   "metadata": {},
   "outputs": [],
   "source": [
    "#35. Find the second largest number in a list."
   ]
  },
  {
   "cell_type": "code",
   "execution_count": 207,
   "id": "89be34a3",
   "metadata": {},
   "outputs": [
    {
     "name": "stdout",
     "output_type": "stream",
     "text": [
      "9\n"
     ]
    }
   ],
   "source": [
    "l = [1,2,3,4,5,6,7,8,9,10]\n",
    "for i in range(0,len(l)):\n",
    "    if i>=len(l)-1:\n",
    "        print(i)"
   ]
  },
  {
   "cell_type": "code",
   "execution_count": null,
   "id": "8018dabb",
   "metadata": {},
   "outputs": [],
   "source": [
    "#36. Replace every element in a list with its square."
   ]
  },
  {
   "cell_type": "code",
   "execution_count": 210,
   "id": "9f7a8219",
   "metadata": {},
   "outputs": [
    {
     "data": {
      "text/plain": [
       "[1, 4, 9, 16, 25, 36, 49, 64]"
      ]
     },
     "execution_count": 210,
     "metadata": {},
     "output_type": "execute_result"
    }
   ],
   "source": [
    "l = [1,2,3,4,5,6,7,8]\n",
    "nl = []\n",
    "for i in l:\n",
    "    #print(i*i,end=\",\")\n",
    "    nl.append(i*i)\n",
    "nl"
   ]
  },
  {
   "cell_type": "code",
   "execution_count": 211,
   "id": "614c761b",
   "metadata": {},
   "outputs": [],
   "source": [
    "#37. Convert a list to a dictionary where list elements become keys and their indices become values."
   ]
  },
  {
   "cell_type": "code",
   "execution_count": 225,
   "id": "e3bb5f0e",
   "metadata": {},
   "outputs": [
    {
     "name": "stdout",
     "output_type": "stream",
     "text": [
      "{'1': 0, '2': 1, '3': 2, '4': 3, '5': 4}\n"
     ]
    }
   ],
   "source": [
    "def Con(lst):\n",
    "    dct = {lst[i]: lst[i + 1] for i in range(0, len(lst), 2)}\n",
    "    return dct\n",
    "         \n",
    "lst = ['1', 0, '2', 1, '3', 2 ,'4',3,'5',4]\n",
    "print(Con(lst))"
   ]
  },
  {
   "cell_type": "code",
   "execution_count": 226,
   "id": "26d7093f",
   "metadata": {},
   "outputs": [],
   "source": [
    "#38. Shuffle the elements of a list randomly."
   ]
  },
  {
   "cell_type": "code",
   "execution_count": 237,
   "id": "018f50c4",
   "metadata": {},
   "outputs": [
    {
     "data": {
      "text/plain": [
       "[8, 1, 5, 4, 2, 7, 3, 6]"
      ]
     },
     "execution_count": 237,
     "metadata": {},
     "output_type": "execute_result"
    }
   ],
   "source": [
    "import random\n",
    "l = [1,2,3,4,5,6,7,8]\n",
    "random.shuffle(l)\n",
    "l"
   ]
  },
  {
   "cell_type": "code",
   "execution_count": 238,
   "id": "bb032a77",
   "metadata": {},
   "outputs": [],
   "source": [
    "#39. Create a list of the first 10 factorial numbers."
   ]
  },
  {
   "cell_type": "code",
   "execution_count": 10,
   "id": "5cd43508",
   "metadata": {},
   "outputs": [
    {
     "data": {
      "text/plain": [
       "[1, 2, 6, 24, 120, 720, 5040, 40320, 362880, 3628800]"
      ]
     },
     "execution_count": 10,
     "metadata": {},
     "output_type": "execute_result"
    }
   ],
   "source": [
    "def factorial(n):\n",
    "     return 1 if (n==0 or n==1) else n*factorial(n-1)\n",
    "l = [1,2,3,4,5,6,7,8,9,10]\n",
    "nl = []\n",
    "for n in l:\n",
    "    #print(factorial(n))\n",
    "    nl.append(factorial(n))\n",
    "        \n",
    "nl      "
   ]
  },
  {
   "cell_type": "code",
   "execution_count": 11,
   "id": "212c76f2",
   "metadata": {},
   "outputs": [],
   "source": [
    "#40. Check if two lists have at least one element in common."
   ]
  },
  {
   "cell_type": "code",
   "execution_count": 15,
   "id": "791143c7",
   "metadata": {},
   "outputs": [
    {
     "name": "stdout",
     "output_type": "stream",
     "text": [
      "the common element is  10\n"
     ]
    }
   ],
   "source": [
    "l1 = [1,2,3,4,5,6,7,8,9,10]\n",
    "l2 = [10,12,13,14,15,16,17]\n",
    "for i in l1:\n",
    "    for j in l2:\n",
    "        if (i==j):\n",
    "            print('the common element is ',i)"
   ]
  },
  {
   "cell_type": "code",
   "execution_count": 16,
   "id": "967981ec",
   "metadata": {},
   "outputs": [],
   "source": [
    "#41. Remove all elements from a list."
   ]
  },
  {
   "cell_type": "code",
   "execution_count": 20,
   "id": "6777a037",
   "metadata": {},
   "outputs": [
    {
     "data": {
      "text/plain": [
       "[]"
      ]
     },
     "execution_count": 20,
     "metadata": {},
     "output_type": "execute_result"
    }
   ],
   "source": [
    "l = [1,2,3,4,5,6,7,8,9,10]\n",
    "l.clear()\n",
    "l"
   ]
  },
  {
   "cell_type": "code",
   "execution_count": 21,
   "id": "80318ee3",
   "metadata": {},
   "outputs": [],
   "source": [
    "#42. Replace negative numbers in a list with 0."
   ]
  },
  {
   "cell_type": "code",
   "execution_count": 31,
   "id": "a94d565a",
   "metadata": {},
   "outputs": [
    {
     "data": {
      "text/plain": [
       "[1, 0, 3, 0, 5, 0, 7, 0, 9]"
      ]
     },
     "execution_count": 31,
     "metadata": {},
     "output_type": "execute_result"
    }
   ],
   "source": [
    "l = [1,-2,3,-4,5,-6,7,-8,9]\n",
    "nl = [0 if i<0 else i for i in l]\n",
    "nl\n"
   ]
  },
  {
   "cell_type": "code",
   "execution_count": 32,
   "id": "7aa2f91a",
   "metadata": {},
   "outputs": [],
   "source": [
    "#43. Convert a string into a list of words."
   ]
  },
  {
   "cell_type": "code",
   "execution_count": 45,
   "id": "b33f4fa9",
   "metadata": {},
   "outputs": [
    {
     "data": {
      "text/plain": [
       "['pwskills', 'is', 'a', 'data', 'science', 'institute']"
      ]
     },
     "execution_count": 45,
     "metadata": {},
     "output_type": "execute_result"
    }
   ],
   "source": [
    "s = 'pwskills is a data science institute'\n",
    "s.split()\n"
   ]
  },
  {
   "cell_type": "code",
   "execution_count": 37,
   "id": "d72a2c67",
   "metadata": {},
   "outputs": [],
   "source": [
    "#44. Convert a list of words into a string."
   ]
  },
  {
   "cell_type": "code",
   "execution_count": 58,
   "id": "d06b7f63",
   "metadata": {},
   "outputs": [
    {
     "data": {
      "text/plain": [
       "'pwskills is a data science institute'"
      ]
     },
     "execution_count": 58,
     "metadata": {},
     "output_type": "execute_result"
    }
   ],
   "source": [
    "l =['pwskills', 'is', 'a', 'data', 'science', 'institute']\n",
    "nl = ' '.join(l)\n",
    "nl"
   ]
  },
  {
   "cell_type": "code",
   "execution_count": 59,
   "id": "591a49b5",
   "metadata": {},
   "outputs": [],
   "source": [
    "#45. Create a list of the first `n` powers of 2."
   ]
  },
  {
   "cell_type": "code",
   "execution_count": 63,
   "id": "9cbfeebe",
   "metadata": {},
   "outputs": [
    {
     "data": {
      "text/plain": [
       "[1, 2, 4, 8, 16, 32, 64, 128, 256, 512]"
      ]
     },
     "execution_count": 63,
     "metadata": {},
     "output_type": "execute_result"
    }
   ],
   "source": [
    "l = []\n",
    "for i in range(0,10):\n",
    "    l.append(2**i)\n",
    "l    "
   ]
  },
  {
   "cell_type": "code",
   "execution_count": 64,
   "id": "92837403",
   "metadata": {},
   "outputs": [],
   "source": [
    "#46. Find the longest string in a list of strings."
   ]
  },
  {
   "cell_type": "code",
   "execution_count": 77,
   "id": "7be2c919",
   "metadata": {},
   "outputs": [
    {
     "name": "stdout",
     "output_type": "stream",
     "text": [
      "institute\n"
     ]
    }
   ],
   "source": [
    "l =['pwskills', 'is', 'a', 'data', 'science', 'institute']\n",
    "nl = [len(i) for i in l]\n",
    "ml = nl.index(max(nl))\n",
    "ls = l[ml]\n",
    "print(ls)\n"
   ]
  },
  {
   "cell_type": "code",
   "execution_count": 78,
   "id": "3ecd1096",
   "metadata": {},
   "outputs": [],
   "source": [
    "#47. Find the shortest string in a list of strings."
   ]
  },
  {
   "cell_type": "code",
   "execution_count": 79,
   "id": "c1a5107c",
   "metadata": {},
   "outputs": [
    {
     "name": "stdout",
     "output_type": "stream",
     "text": [
      "a\n"
     ]
    }
   ],
   "source": [
    "l =['pwskills', 'is', 'a', 'data', 'science', 'institute']\n",
    "nl = [len(i) for i in l]\n",
    "ml = nl.index(min(nl))\n",
    "ls = l[ml]\n",
    "print(ls)\n"
   ]
  },
  {
   "cell_type": "code",
   "execution_count": 80,
   "id": "5533bae8",
   "metadata": {},
   "outputs": [],
   "source": [
    "#50. Swap two elements in a list by their indices."
   ]
  },
  {
   "cell_type": "code",
   "execution_count": 90,
   "id": "b792b294",
   "metadata": {},
   "outputs": [
    {
     "data": {
      "text/plain": [
       "['data2', 'data', 'data2', 'data3']"
      ]
     },
     "execution_count": 90,
     "metadata": {},
     "output_type": "execute_result"
    }
   ],
   "source": [
    "l = ['data','data1','data2','data3']\n",
    "l[0],l[1] = l[2],l[0]\n",
    "l"
   ]
  },
  {
   "cell_type": "markdown",
   "id": "c2a1bd44",
   "metadata": {},
   "source": [
    "# Tuple Based Practice Problem :"
   ]
  },
  {
   "cell_type": "code",
   "execution_count": 1,
   "id": "1f104fa1",
   "metadata": {},
   "outputs": [],
   "source": [
    "#1. Create a tuple with integers from 1 to 5."
   ]
  },
  {
   "cell_type": "code",
   "execution_count": 2,
   "id": "adb33494",
   "metadata": {},
   "outputs": [
    {
     "name": "stdout",
     "output_type": "stream",
     "text": [
      "(1, 2, 3, 4, 5)\n"
     ]
    }
   ],
   "source": [
    "t = (1,2,3,4,5)\n",
    "print(t)"
   ]
  },
  {
   "cell_type": "code",
   "execution_count": 3,
   "id": "622503f8",
   "metadata": {},
   "outputs": [],
   "source": [
    "#2. Access the third element of a tuple."
   ]
  },
  {
   "cell_type": "code",
   "execution_count": 23,
   "id": "f4a7ea05",
   "metadata": {},
   "outputs": [
    {
     "data": {
      "text/plain": [
       "(3, 5, 10)"
      ]
     },
     "execution_count": 23,
     "metadata": {},
     "output_type": "execute_result"
    }
   ],
   "source": [
    "t = ((1,1,1),(2,3,7),(3,5,10))\n",
    "t[2]"
   ]
  },
  {
   "cell_type": "code",
   "execution_count": 24,
   "id": "313147e3",
   "metadata": {},
   "outputs": [],
   "source": [
    "#3. Find the length of a tuple without using the `len()` function."
   ]
  },
  {
   "cell_type": "code",
   "execution_count": 12,
   "id": "fe550141",
   "metadata": {},
   "outputs": [
    {
     "name": "stdout",
     "output_type": "stream",
     "text": [
      "the lenght of the tuple is  6\n"
     ]
    }
   ],
   "source": [
    "t = (1,2,3,4,5,6)\n",
    "c = 0\n",
    "for i in t:\n",
    "    c += 1\n",
    "print(\"the lenght of the tuple is \",c)"
   ]
  },
  {
   "cell_type": "code",
   "execution_count": 30,
   "id": "f6434579",
   "metadata": {},
   "outputs": [],
   "source": [
    "#4. Count the occurrences of an element in a tuple."
   ]
  },
  {
   "cell_type": "code",
   "execution_count": 31,
   "id": "29fb075f",
   "metadata": {},
   "outputs": [
    {
     "data": {
      "text/plain": [
       "3"
      ]
     },
     "execution_count": 31,
     "metadata": {},
     "output_type": "execute_result"
    }
   ],
   "source": [
    "t = (1,2,3,4,4,4,5)\n",
    "t.count(4)"
   ]
  },
  {
   "cell_type": "code",
   "execution_count": 32,
   "id": "a5527fa0",
   "metadata": {},
   "outputs": [],
   "source": [
    "#5. Find the index of the first occurrence of an element in a tuple."
   ]
  },
  {
   "cell_type": "code",
   "execution_count": 33,
   "id": "d0fc2f9b",
   "metadata": {},
   "outputs": [
    {
     "data": {
      "text/plain": [
       "1"
      ]
     },
     "execution_count": 33,
     "metadata": {},
     "output_type": "execute_result"
    }
   ],
   "source": [
    "t = (1,2,3,4,2,5,2)\n",
    "t.index(2)"
   ]
  },
  {
   "cell_type": "code",
   "execution_count": 34,
   "id": "c26e28ed",
   "metadata": {},
   "outputs": [],
   "source": [
    "#6. Check if an element exists in a tuple."
   ]
  },
  {
   "cell_type": "code",
   "execution_count": 45,
   "id": "77024d9c",
   "metadata": {},
   "outputs": [
    {
     "name": "stdout",
     "output_type": "stream",
     "text": [
      "True\n"
     ]
    }
   ],
   "source": [
    "t = (1,2,3,4,5,6)\n",
    "n = 5\n",
    "if n in t:\n",
    "    print('True')\n",
    "else:\n",
    "    print('False')"
   ]
  },
  {
   "cell_type": "code",
   "execution_count": 46,
   "id": "5fa2a2aa",
   "metadata": {},
   "outputs": [],
   "source": [
    "#7. Convert a tuple to a list."
   ]
  },
  {
   "cell_type": "code",
   "execution_count": 47,
   "id": "9d31ea8a",
   "metadata": {},
   "outputs": [
    {
     "data": {
      "text/plain": [
       "[1, 2, 3]"
      ]
     },
     "execution_count": 47,
     "metadata": {},
     "output_type": "execute_result"
    }
   ],
   "source": [
    "t = (1,2,3)\n",
    "l = list(t)\n",
    "l"
   ]
  },
  {
   "cell_type": "code",
   "execution_count": 48,
   "id": "d9caad03",
   "metadata": {},
   "outputs": [],
   "source": [
    "#8. Convert a list to a tuple."
   ]
  },
  {
   "cell_type": "code",
   "execution_count": 51,
   "id": "f56c102a",
   "metadata": {},
   "outputs": [
    {
     "data": {
      "text/plain": [
       "(1, 2, 3)"
      ]
     },
     "execution_count": 51,
     "metadata": {},
     "output_type": "execute_result"
    }
   ],
   "source": [
    "l = [1,2,3]\n",
    "t = tuple(l)\n",
    "t"
   ]
  },
  {
   "cell_type": "code",
   "execution_count": 52,
   "id": "963052f7",
   "metadata": {},
   "outputs": [],
   "source": [
    "#9. Unpack the elements of a tuple into variables."
   ]
  },
  {
   "cell_type": "code",
   "execution_count": 54,
   "id": "804bae8d",
   "metadata": {},
   "outputs": [
    {
     "name": "stdout",
     "output_type": "stream",
     "text": [
      "intObj:  2\n",
      "floatObj:  0.5\n",
      "strObj:  str\n",
      "listObj:  [1, 2, 3]\n"
     ]
    }
   ],
   "source": [
    "v1 = 2\n",
    "v2 = 0.5\n",
    "v3 = 'str'\n",
    "v4 = [1,2,3]\n",
    "t1 = (v1,v2,v3,v4)\n",
    "#unpacking\n",
    "intObj,floatObj,strObj,listObj = t1\n",
    "print(\"intObj: \", intObj)\n",
    "print(\"floatObj: \", floatObj)\n",
    "print(\"strObj: \", strObj)\n",
    "print(\"listObj: \", listObj)"
   ]
  },
  {
   "cell_type": "code",
   "execution_count": 55,
   "id": "3a099446",
   "metadata": {},
   "outputs": [],
   "source": [
    "#10. Create a tuple of even numbers from 1 to 10."
   ]
  },
  {
   "cell_type": "code",
   "execution_count": 58,
   "id": "9b516055",
   "metadata": {},
   "outputs": [
    {
     "data": {
      "text/plain": [
       "(2, 4, 6, 8, 10)"
      ]
     },
     "execution_count": 58,
     "metadata": {},
     "output_type": "execute_result"
    }
   ],
   "source": [
    "t = []\n",
    "for i in range(1,11):\n",
    "    if (i%2)==0:\n",
    "        t.append(i)\n",
    "t1 = tuple(t)\n",
    "t1"
   ]
  },
  {
   "cell_type": "code",
   "execution_count": 59,
   "id": "676a1b88",
   "metadata": {},
   "outputs": [],
   "source": [
    "#11. Create a tuple of odd numbers from 1 to 10."
   ]
  },
  {
   "cell_type": "code",
   "execution_count": 60,
   "id": "29b53f54",
   "metadata": {},
   "outputs": [
    {
     "data": {
      "text/plain": [
       "(1, 3, 5, 7, 9)"
      ]
     },
     "execution_count": 60,
     "metadata": {},
     "output_type": "execute_result"
    }
   ],
   "source": [
    "t = []\n",
    "for i in range(1,11):\n",
    "    if (i%2)!=0:\n",
    "        t.append(i)\n",
    "t1 = tuple(t)\n",
    "t1"
   ]
  },
  {
   "cell_type": "code",
   "execution_count": 61,
   "id": "ff77e8c1",
   "metadata": {},
   "outputs": [],
   "source": [
    "#12. Concatenate two tuples."
   ]
  },
  {
   "cell_type": "code",
   "execution_count": 62,
   "id": "c1eed096",
   "metadata": {},
   "outputs": [
    {
     "data": {
      "text/plain": [
       "(1, 2, 3, 4, 5, 6)"
      ]
     },
     "execution_count": 62,
     "metadata": {},
     "output_type": "execute_result"
    }
   ],
   "source": [
    "t1 = (1,2,3)\n",
    "t2 = (4,5,6)\n",
    "t1+t2"
   ]
  },
  {
   "cell_type": "code",
   "execution_count": 63,
   "id": "c3a98c0e",
   "metadata": {},
   "outputs": [],
   "source": [
    "#13. Repeat a tuple three times."
   ]
  },
  {
   "cell_type": "code",
   "execution_count": 69,
   "id": "3db96758",
   "metadata": {},
   "outputs": [
    {
     "data": {
      "text/plain": [
       "(1, 2, 3, 1, 2, 3, 1, 2, 3)"
      ]
     },
     "execution_count": 69,
     "metadata": {},
     "output_type": "execute_result"
    }
   ],
   "source": [
    "t = (1,2,3)\n",
    "t1 = t*3\n",
    "t1"
   ]
  },
  {
   "cell_type": "code",
   "execution_count": 70,
   "id": "73ba6c3f",
   "metadata": {},
   "outputs": [],
   "source": [
    "#14. Check if a tuple is empty."
   ]
  },
  {
   "cell_type": "code",
   "execution_count": 5,
   "id": "d01fb89f",
   "metadata": {},
   "outputs": [
    {
     "name": "stdout",
     "output_type": "stream",
     "text": [
      "empty\n"
     ]
    }
   ],
   "source": [
    "t = ()\n",
    "if len(t)==0:\n",
    "    print('empty')"
   ]
  },
  {
   "cell_type": "code",
   "execution_count": 6,
   "id": "534fafbb",
   "metadata": {},
   "outputs": [],
   "source": [
    "#15. Create a nested tuple."
   ]
  },
  {
   "cell_type": "code",
   "execution_count": 14,
   "id": "0ec63553",
   "metadata": {},
   "outputs": [
    {
     "data": {
      "text/plain": [
       "((1, 2, 3), (4, 5, 6))"
      ]
     },
     "execution_count": 14,
     "metadata": {},
     "output_type": "execute_result"
    }
   ],
   "source": [
    "t1 = (1,2,3),\n",
    "t2 = (4,5,6),\n",
    "t1+t2"
   ]
  },
  {
   "cell_type": "code",
   "execution_count": 15,
   "id": "a0ffbcc0",
   "metadata": {},
   "outputs": [],
   "source": [
    "#16. Access the first element of a nested tuple."
   ]
  },
  {
   "cell_type": "code",
   "execution_count": 20,
   "id": "277a135b",
   "metadata": {},
   "outputs": [
    {
     "data": {
      "text/plain": [
       "(1, 2, 3)"
      ]
     },
     "execution_count": 20,
     "metadata": {},
     "output_type": "execute_result"
    }
   ],
   "source": [
    "t =((1, 2, 3), (4, 5, 6))\n",
    "t[0]"
   ]
  },
  {
   "cell_type": "code",
   "execution_count": 18,
   "id": "5d00ee49",
   "metadata": {},
   "outputs": [],
   "source": [
    "#17. Create a tuple with a single element."
   ]
  },
  {
   "cell_type": "code",
   "execution_count": 19,
   "id": "310fa82f",
   "metadata": {},
   "outputs": [
    {
     "data": {
      "text/plain": [
       "(1,)"
      ]
     },
     "execution_count": 19,
     "metadata": {},
     "output_type": "execute_result"
    }
   ],
   "source": [
    "t = (1,)\n",
    "t"
   ]
  },
  {
   "cell_type": "code",
   "execution_count": 21,
   "id": "49899c6c",
   "metadata": {},
   "outputs": [],
   "source": [
    "#18. Compare two tuples."
   ]
  },
  {
   "cell_type": "code",
   "execution_count": 24,
   "id": "e590f522",
   "metadata": {},
   "outputs": [
    {
     "data": {
      "text/plain": [
       "False"
      ]
     },
     "execution_count": 24,
     "metadata": {},
     "output_type": "execute_result"
    }
   ],
   "source": [
    "t1 = (1,2,3)\n",
    "t2 = (4,5,6)\n",
    "t1>t2"
   ]
  },
  {
   "cell_type": "code",
   "execution_count": 25,
   "id": "311f9270",
   "metadata": {},
   "outputs": [],
   "source": [
    "#19. Delete a tuple."
   ]
  },
  {
   "cell_type": "code",
   "execution_count": 28,
   "id": "9a67d44d",
   "metadata": {},
   "outputs": [
    {
     "ename": "NameError",
     "evalue": "name 't' is not defined",
     "output_type": "error",
     "traceback": [
      "\u001b[1;31m---------------------------------------------------------------------------\u001b[0m",
      "\u001b[1;31mNameError\u001b[0m                                 Traceback (most recent call last)",
      "\u001b[1;32m~\\AppData\\Local\\Temp/ipykernel_11640/2326513539.py\u001b[0m in \u001b[0;36m<module>\u001b[1;34m\u001b[0m\n\u001b[0;32m      1\u001b[0m \u001b[0mt\u001b[0m \u001b[1;33m=\u001b[0m \u001b[1;33m(\u001b[0m\u001b[1;36m1\u001b[0m\u001b[1;33m,\u001b[0m\u001b[1;36m2\u001b[0m\u001b[1;33m,\u001b[0m\u001b[1;36m3\u001b[0m\u001b[1;33m,\u001b[0m\u001b[1;36m4\u001b[0m\u001b[1;33m)\u001b[0m\u001b[1;33m\u001b[0m\u001b[1;33m\u001b[0m\u001b[0m\n\u001b[0;32m      2\u001b[0m \u001b[1;32mdel\u001b[0m \u001b[0mt\u001b[0m\u001b[1;33m\u001b[0m\u001b[1;33m\u001b[0m\u001b[0m\n\u001b[1;32m----> 3\u001b[1;33m \u001b[0mt\u001b[0m\u001b[1;33m\u001b[0m\u001b[1;33m\u001b[0m\u001b[0m\n\u001b[0m",
      "\u001b[1;31mNameError\u001b[0m: name 't' is not defined"
     ]
    }
   ],
   "source": [
    "t = (1,2,3,4)\n",
    "del t\n",
    "t # we can see entire tuple is deleted"
   ]
  },
  {
   "cell_type": "code",
   "execution_count": 29,
   "id": "ab5cddeb",
   "metadata": {},
   "outputs": [],
   "source": [
    "#20. Slice a tuple."
   ]
  },
  {
   "cell_type": "code",
   "execution_count": 35,
   "id": "c9b713c6",
   "metadata": {},
   "outputs": [
    {
     "name": "stdout",
     "output_type": "stream",
     "text": [
      "('a', 'b', 'c', 'd')\n",
      "('a', 'c', 'e', 'g', 'i')\n",
      "('j', 'h')\n"
     ]
    }
   ],
   "source": [
    "t = ('a','b','c','d','e','f','g','h','i','j')\n",
    "print(t[0:4])\n",
    "print(t[0:9:2])\n",
    "print(t[-1:-5:-2])"
   ]
  },
  {
   "cell_type": "code",
   "execution_count": 1,
   "id": "74ba8816",
   "metadata": {},
   "outputs": [],
   "source": [
    "#21. Find the maximum value in a tuple."
   ]
  },
  {
   "cell_type": "code",
   "execution_count": 2,
   "id": "90061776",
   "metadata": {},
   "outputs": [
    {
     "data": {
      "text/plain": [
       "52"
      ]
     },
     "execution_count": 2,
     "metadata": {},
     "output_type": "execute_result"
    }
   ],
   "source": [
    "t = (1,2,3,4,52,6)\n",
    "max(t)"
   ]
  },
  {
   "cell_type": "code",
   "execution_count": 3,
   "id": "59cf4b25",
   "metadata": {},
   "outputs": [],
   "source": [
    "#22. Find the minimum value in a tuple."
   ]
  },
  {
   "cell_type": "code",
   "execution_count": 4,
   "id": "98d02dcc",
   "metadata": {},
   "outputs": [
    {
     "data": {
      "text/plain": [
       "1"
      ]
     },
     "execution_count": 4,
     "metadata": {},
     "output_type": "execute_result"
    }
   ],
   "source": [
    "t = (1,2,3,4,52,6)\n",
    "min(t)"
   ]
  },
  {
   "cell_type": "code",
   "execution_count": 5,
   "id": "4c2dac21",
   "metadata": {},
   "outputs": [],
   "source": [
    "#23. Convert a string to a tuple of characters."
   ]
  },
  {
   "cell_type": "code",
   "execution_count": 14,
   "id": "8bc02aea",
   "metadata": {},
   "outputs": [
    {
     "data": {
      "text/plain": [
       "('pwskills',)"
      ]
     },
     "execution_count": 14,
     "metadata": {},
     "output_type": "execute_result"
    }
   ],
   "source": [
    "s = 'pwskills'\n",
    "nt = s.split(',')\n",
    "mt = tuple(nt)\n",
    "mt"
   ]
  },
  {
   "cell_type": "code",
   "execution_count": 7,
   "id": "3e86e7f4",
   "metadata": {},
   "outputs": [],
   "source": [
    "#24. Convert a tuple of characters to a string."
   ]
  },
  {
   "cell_type": "code",
   "execution_count": 11,
   "id": "294ef087",
   "metadata": {},
   "outputs": [
    {
     "data": {
      "text/plain": [
       "'tuple'"
      ]
     },
     "execution_count": 11,
     "metadata": {},
     "output_type": "execute_result"
    }
   ],
   "source": [
    "t = ('t','u','p','l','e')\n",
    "s = ''.join(t)\n",
    "s"
   ]
  },
  {
   "cell_type": "code",
   "execution_count": 12,
   "id": "2781651f",
   "metadata": {},
   "outputs": [],
   "source": [
    "#25. Create a tuple from multiple data types."
   ]
  },
  {
   "cell_type": "code",
   "execution_count": 17,
   "id": "1149a5ee",
   "metadata": {},
   "outputs": [
    {
     "name": "stdout",
     "output_type": "stream",
     "text": [
      "('pwskills', 'ineuron')\n",
      "(1, 2, 3, 4, 5)\n",
      "('h', 'a', 'r', 's', 'h', 'a')\n"
     ]
    }
   ],
   "source": [
    "#using string\n",
    "t = ('pwskills','ineuron')\n",
    "#using list\n",
    "t1 = [1,2,3,4,5]\n",
    "#using built in fun\n",
    "t2 = tuple('harsha')\n",
    "print(t)\n",
    "print(tuple(t1))\n",
    "print(t2)"
   ]
  },
  {
   "cell_type": "code",
   "execution_count": 18,
   "id": "37895e0b",
   "metadata": {},
   "outputs": [],
   "source": [
    "#26. Check if two tuples are identical."
   ]
  },
  {
   "cell_type": "code",
   "execution_count": 22,
   "id": "3a55cfcd",
   "metadata": {},
   "outputs": [
    {
     "name": "stdout",
     "output_type": "stream",
     "text": [
      "Identical\n"
     ]
    }
   ],
   "source": [
    "t1 = (1,2,3)\n",
    "t2 = (1,2,3)\n",
    "if t1 == t2:\n",
    "    print('Identical')\n",
    "else:\n",
    "    print('not Identical')"
   ]
  },
  {
   "cell_type": "code",
   "execution_count": 23,
   "id": "4d7fe405",
   "metadata": {},
   "outputs": [],
   "source": [
    "#27. Sort the elements of a tuple."
   ]
  },
  {
   "cell_type": "code",
   "execution_count": 26,
   "id": "a3375fad",
   "metadata": {},
   "outputs": [
    {
     "name": "stdout",
     "output_type": "stream",
     "text": [
      "(1, 2, 3, 4, 5)\n"
     ]
    }
   ],
   "source": [
    "t = (5,2,1,4,3)\n",
    "nt = list(t)\n",
    "nt.sort()\n",
    "print(tuple(nt))"
   ]
  },
  {
   "cell_type": "code",
   "execution_count": 27,
   "id": "5f50fe08",
   "metadata": {},
   "outputs": [],
   "source": [
    "#28. Convert a tuple of integers to a tuple of strings."
   ]
  },
  {
   "cell_type": "code",
   "execution_count": 29,
   "id": "c0a65cf3",
   "metadata": {},
   "outputs": [
    {
     "name": "stdout",
     "output_type": "stream",
     "text": [
      "('1', '2', '3', '4', '5')\n"
     ]
    }
   ],
   "source": [
    "t = (1,2,3,4,5)\n",
    "nt = [str(i) for i in t]\n",
    "print(tuple(nt))"
   ]
  },
  {
   "cell_type": "code",
   "execution_count": 30,
   "id": "8668d6c9",
   "metadata": {},
   "outputs": [],
   "source": [
    "#29. Convert a tuple of strings to a tuple of integers."
   ]
  },
  {
   "cell_type": "code",
   "execution_count": 31,
   "id": "c52cab14",
   "metadata": {},
   "outputs": [
    {
     "name": "stdout",
     "output_type": "stream",
     "text": [
      "(1, 2, 3, 4, 5)\n"
     ]
    }
   ],
   "source": [
    "t = ('1', '2', '3', '4', '5')\n",
    "nt = [int(i) for i in t]\n",
    "print(tuple(nt))"
   ]
  },
  {
   "cell_type": "code",
   "execution_count": 32,
   "id": "58e22769",
   "metadata": {},
   "outputs": [],
   "source": [
    "#30. Merge two tuples."
   ]
  },
  {
   "cell_type": "code",
   "execution_count": 33,
   "id": "24d49377",
   "metadata": {},
   "outputs": [
    {
     "data": {
      "text/plain": [
       "(1, 2, 3, 4, 5, 6)"
      ]
     },
     "execution_count": 33,
     "metadata": {},
     "output_type": "execute_result"
    }
   ],
   "source": [
    "t1 = (1,2,3)\n",
    "t2 = (4,5,6)\n",
    "t1+t2"
   ]
  },
  {
   "cell_type": "code",
   "execution_count": 34,
   "id": "c6da5739",
   "metadata": {},
   "outputs": [],
   "source": [
    "#31. Flatten a nested tuple."
   ]
  },
  {
   "cell_type": "code",
   "execution_count": 35,
   "id": "d6911887",
   "metadata": {},
   "outputs": [
    {
     "name": "stdout",
     "output_type": "stream",
     "text": [
      "(1, 2, 3, 4, 5, 6, 7, 8, 9)\n"
     ]
    }
   ],
   "source": [
    "t = ((1,2,3),(4,5,6),(7,8,9))\n",
    "nt = []\n",
    "for i in t:\n",
    "    for j in i:\n",
    "        nt.append(j)\n",
    "print(tuple(nt))"
   ]
  },
  {
   "cell_type": "code",
   "execution_count": 36,
   "id": "2b540729",
   "metadata": {},
   "outputs": [],
   "source": [
    "#32. Create a tuple of the first 5 prime numbers."
   ]
  },
  {
   "cell_type": "code",
   "execution_count": 108,
   "id": "8dded485",
   "metadata": {},
   "outputs": [
    {
     "name": "stdout",
     "output_type": "stream",
     "text": [
      "(2, 3, 5, 7, 11)\n"
     ]
    }
   ],
   "source": [
    "def isprime(n):\n",
    "    t = []\n",
    "    for i in range(2,n+1):\n",
    "        for j in range(2,int(i**0.5)+1):\n",
    "            if i%j == 0:\n",
    "                break\n",
    "        else:\n",
    "            t.append(i)\n",
    "    return t\n",
    "t1 =isprime(12)\n",
    "print(tuple(t1))"
   ]
  },
  {
   "cell_type": "code",
   "execution_count": 54,
   "id": "554c9510",
   "metadata": {},
   "outputs": [],
   "source": [
    "#34. Create a tuple of squares of numbers from 1 to 5."
   ]
  },
  {
   "cell_type": "code",
   "execution_count": 56,
   "id": "9a25b69d",
   "metadata": {},
   "outputs": [
    {
     "name": "stdout",
     "output_type": "stream",
     "text": [
      "(1, 4, 9, 16, 25)\n"
     ]
    }
   ],
   "source": [
    "t = (1,2,3,4,5)\n",
    "t1=[]\n",
    "for i in t:\n",
    "    #print(i*i,end=\",\")\n",
    "    t1.append(i*i)\n",
    "print(tuple(t1))\n",
    "    "
   ]
  },
  {
   "cell_type": "code",
   "execution_count": 57,
   "id": "934a9769",
   "metadata": {},
   "outputs": [],
   "source": [
    "#35. Filter out all even numbers from a tuple."
   ]
  },
  {
   "cell_type": "code",
   "execution_count": 58,
   "id": "55c05649",
   "metadata": {},
   "outputs": [
    {
     "name": "stdout",
     "output_type": "stream",
     "text": [
      "(2, 4, 6, 8, 10)\n"
     ]
    }
   ],
   "source": [
    "t = (1,2,3,4,5,6,7,8,9,10)\n",
    "et = []\n",
    "for i in t:\n",
    "    if i%2 == 0:\n",
    "        et.append(i)\n",
    "print(tuple(et))"
   ]
  },
  {
   "cell_type": "code",
   "execution_count": 59,
   "id": "89a34278",
   "metadata": {},
   "outputs": [],
   "source": [
    "#36. Multiply all elements in a tuple by 2."
   ]
  },
  {
   "cell_type": "code",
   "execution_count": 60,
   "id": "9b67f702",
   "metadata": {},
   "outputs": [
    {
     "name": "stdout",
     "output_type": "stream",
     "text": [
      "(2, 4, 6, 8, 10)\n"
     ]
    }
   ],
   "source": [
    "t = (1,2,3,4,5)\n",
    "nt = []\n",
    "for i in t:\n",
    "    nt.append(i*2)\n",
    "print(tuple(nt))"
   ]
  },
  {
   "cell_type": "code",
   "execution_count": 61,
   "id": "2643db7b",
   "metadata": {},
   "outputs": [],
   "source": [
    "#37. Create a tuple of random numbers."
   ]
  },
  {
   "cell_type": "code",
   "execution_count": 62,
   "id": "39d8f6db",
   "metadata": {},
   "outputs": [
    {
     "data": {
      "text/plain": [
       "(15, 20, 10, 7, 48, 40, 27, 23, 24)"
      ]
     },
     "execution_count": 62,
     "metadata": {},
     "output_type": "execute_result"
    }
   ],
   "source": [
    "import random\n",
    "rl = []\n",
    "for i in range(1,10):\n",
    "    n = random.randint(1,50)\n",
    "    rl.append(n)\n",
    "tuple(rl)"
   ]
  },
  {
   "cell_type": "code",
   "execution_count": 63,
   "id": "f339e162",
   "metadata": {},
   "outputs": [],
   "source": [
    "#38. Check if a tuple is sorted."
   ]
  },
  {
   "cell_type": "code",
   "execution_count": 68,
   "id": "b615d0f9",
   "metadata": {},
   "outputs": [
    {
     "data": {
      "text/plain": [
       "False"
      ]
     },
     "execution_count": 68,
     "metadata": {},
     "output_type": "execute_result"
    }
   ],
   "source": [
    "def istuplesort(t):\n",
    "    for i in range(0,len(t)):\n",
    "        if t[i]<t[i-1]:\n",
    "            return False\n",
    "        else:\n",
    "            return True\n",
    "    \n",
    "t = (1,3,5,4,10)\n",
    "nt = istuplesort(t)\n",
    "nt"
   ]
  },
  {
   "cell_type": "code",
   "execution_count": 69,
   "id": "6dbffd12",
   "metadata": {},
   "outputs": [],
   "source": [
    "#41. Create a tuple of the first 5 Fibonacci numbers."
   ]
  },
  {
   "cell_type": "code",
   "execution_count": 77,
   "id": "02317cc7",
   "metadata": {},
   "outputs": [
    {
     "name": "stdout",
     "output_type": "stream",
     "text": [
      "enter nterms :8\n",
      "(0, 1, 1, 2, 3, 5, 8, 13)\n"
     ]
    }
   ],
   "source": [
    "n = int(input('enter nterms :'))\n",
    "n1 =0\n",
    "n2 =1\n",
    "c =0\n",
    "t =[]\n",
    "while c < n:\n",
    "    t.append(n1)\n",
    "    nth = n1+n2\n",
    "    n1 = n2\n",
    "    n2 = nth\n",
    "    c+= 1\n",
    "print(tuple(t))"
   ]
  },
  {
   "cell_type": "code",
   "execution_count": 78,
   "id": "721ba7e8",
   "metadata": {},
   "outputs": [],
   "source": [
    "#42. Create a tuple from user input."
   ]
  },
  {
   "cell_type": "code",
   "execution_count": 81,
   "id": "26dcb862",
   "metadata": {},
   "outputs": [
    {
     "name": "stdout",
     "output_type": "stream",
     "text": [
      "Enter pwskills\n",
      "('pwskills',)\n"
     ]
    }
   ],
   "source": [
    "t = input('Enter ')\n",
    "nt = t.split(',')\n",
    "print(tuple(nt))\n"
   ]
  },
  {
   "cell_type": "code",
   "execution_count": 82,
   "id": "92961355",
   "metadata": {},
   "outputs": [],
   "source": [
    "#43. Swap two elements in a tuple."
   ]
  },
  {
   "cell_type": "code",
   "execution_count": 90,
   "id": "5e0bbfc2",
   "metadata": {},
   "outputs": [
    {
     "name": "stdout",
     "output_type": "stream",
     "text": [
      "((2, 1), (4, 3), (6, 5))\n"
     ]
    }
   ],
   "source": [
    "t = ((1,2),(3,4),(5,6))\n",
    "nt = [(i[1],i[0]) for i in t]\n",
    "print(tuple(nt))"
   ]
  },
  {
   "cell_type": "code",
   "execution_count": 91,
   "id": "9f85309b",
   "metadata": {},
   "outputs": [],
   "source": [
    "#44. Reverse the elements of a tuple."
   ]
  },
  {
   "cell_type": "code",
   "execution_count": 92,
   "id": "a9adab9b",
   "metadata": {},
   "outputs": [
    {
     "data": {
      "text/plain": [
       "(6, 5, 4, 3, 2, 1)"
      ]
     },
     "execution_count": 92,
     "metadata": {},
     "output_type": "execute_result"
    }
   ],
   "source": [
    "t = (1,2,3,4,5,6)\n",
    "t[::-1]"
   ]
  },
  {
   "cell_type": "code",
   "execution_count": 93,
   "id": "c7059725",
   "metadata": {},
   "outputs": [],
   "source": [
    "#45. Create a tuple of the first `n` powers of 2."
   ]
  },
  {
   "cell_type": "code",
   "execution_count": 94,
   "id": "7af48984",
   "metadata": {},
   "outputs": [
    {
     "name": "stdout",
     "output_type": "stream",
     "text": [
      "(2, 4, 8, 16, 32, 64, 128, 256, 512)\n"
     ]
    }
   ],
   "source": [
    "t =[]\n",
    "for i in range(1,10):\n",
    "    t.append(2**i)\n",
    "print(tuple(t))"
   ]
  },
  {
   "cell_type": "code",
   "execution_count": 95,
   "id": "60f80b46",
   "metadata": {},
   "outputs": [],
   "source": [
    "#46. Find the longest string in a tuple of strings."
   ]
  },
  {
   "cell_type": "code",
   "execution_count": 99,
   "id": "5abd5732",
   "metadata": {},
   "outputs": [
    {
     "data": {
      "text/plain": [
       "'institute'"
      ]
     },
     "execution_count": 99,
     "metadata": {},
     "output_type": "execute_result"
    }
   ],
   "source": [
    "t = ('pwskills', 'is', 'a', 'data', 'science', 'institute')\n",
    "nt = [len(i) for i in t]\n",
    "mt  = nt.index(max(nt))\n",
    "ms = t[mt]\n",
    "ms"
   ]
  },
  {
   "cell_type": "code",
   "execution_count": 100,
   "id": "ba1dfda1",
   "metadata": {},
   "outputs": [],
   "source": [
    "#47. Find the shortest string in a tuple of strings."
   ]
  },
  {
   "cell_type": "code",
   "execution_count": 101,
   "id": "89982964",
   "metadata": {},
   "outputs": [
    {
     "data": {
      "text/plain": [
       "'a'"
      ]
     },
     "execution_count": 101,
     "metadata": {},
     "output_type": "execute_result"
    }
   ],
   "source": [
    "t = ('pwskills', 'is', 'a', 'data', 'science', 'institute')\n",
    "nt = [len(i) for i in t]\n",
    "mt  = nt.index(min(nt))\n",
    "ms = t[mt]\n",
    "ms"
   ]
  },
  {
   "cell_type": "code",
   "execution_count": 108,
   "id": "7a59313f",
   "metadata": {},
   "outputs": [],
   "source": [
    "#50. Create a tuple of alternating 1s and 0s of length `n`."
   ]
  },
  {
   "cell_type": "code",
   "execution_count": 114,
   "id": "19be245c",
   "metadata": {},
   "outputs": [
    {
     "name": "stdout",
     "output_type": "stream",
     "text": [
      "(1, 1, 1, 1, 1, 0, 0, 0, 1, 1, 1, 1)\n"
     ]
    }
   ],
   "source": [
    "c1 = 5\n",
    "c2 = 3\n",
    "s = 12\n",
    "t = [1 if i%(c1+c2)<c1 else 0 for i in range(s)]\n",
    "print(tuple(t))"
   ]
  },
  {
   "cell_type": "markdown",
   "id": "23e65c48",
   "metadata": {},
   "source": [
    "# Set Based Practice Problem :"
   ]
  },
  {
   "cell_type": "code",
   "execution_count": 1,
   "id": "412851a7",
   "metadata": {},
   "outputs": [],
   "source": [
    "#1. Create a set with integers from 1 to 5."
   ]
  },
  {
   "cell_type": "code",
   "execution_count": 2,
   "id": "81961cb3",
   "metadata": {},
   "outputs": [
    {
     "name": "stdout",
     "output_type": "stream",
     "text": [
      "{1, 2, 3, 4, 5}\n"
     ]
    }
   ],
   "source": [
    "s = {1,2,3,4,5}\n",
    "print(s)"
   ]
  },
  {
   "cell_type": "code",
   "execution_count": 3,
   "id": "ebd53c66",
   "metadata": {},
   "outputs": [],
   "source": [
    "#2. Add an element to a set."
   ]
  },
  {
   "cell_type": "code",
   "execution_count": 4,
   "id": "da5278a4",
   "metadata": {},
   "outputs": [
    {
     "data": {
      "text/plain": [
       "{1, 2, 3, 4, 5, 6}"
      ]
     },
     "execution_count": 4,
     "metadata": {},
     "output_type": "execute_result"
    }
   ],
   "source": [
    "s = {1,2,3,4,5}\n",
    "s.add(6)\n",
    "s"
   ]
  },
  {
   "cell_type": "code",
   "execution_count": 5,
   "id": "88e1a509",
   "metadata": {},
   "outputs": [],
   "source": [
    "#3. Remove an element from a set."
   ]
  },
  {
   "cell_type": "code",
   "execution_count": 6,
   "id": "b762dd49",
   "metadata": {},
   "outputs": [
    {
     "data": {
      "text/plain": [
       "{1, 2, 4, 5}"
      ]
     },
     "execution_count": 6,
     "metadata": {},
     "output_type": "execute_result"
    }
   ],
   "source": [
    "s = {1,2,3,4,5}\n",
    "s.remove(3)\n",
    "s"
   ]
  },
  {
   "cell_type": "code",
   "execution_count": 7,
   "id": "1884fe79",
   "metadata": {},
   "outputs": [],
   "source": [
    "#4. Check if an element exists in a set."
   ]
  },
  {
   "cell_type": "code",
   "execution_count": 9,
   "id": "f5936e86",
   "metadata": {},
   "outputs": [
    {
     "name": "stdout",
     "output_type": "stream",
     "text": [
      "true\n"
     ]
    }
   ],
   "source": [
    "s = {1,2,3,4,5}\n",
    "if 2 in s:\n",
    "    print('true')\n",
    "else:\n",
    "    print('False')"
   ]
  },
  {
   "cell_type": "code",
   "execution_count": 10,
   "id": "ca63b1cf",
   "metadata": {},
   "outputs": [],
   "source": [
    "#5. Find the length of a set without using the `len()` function."
   ]
  },
  {
   "cell_type": "code",
   "execution_count": 15,
   "id": "5518800b",
   "metadata": {},
   "outputs": [
    {
     "name": "stdout",
     "output_type": "stream",
     "text": [
      "the length of set is  7\n"
     ]
    }
   ],
   "source": [
    "s ={1,2,3,4,5,6,7}\n",
    "c = 0\n",
    "for i in s:\n",
    "    c+= 1\n",
    "print('the length of set is ',c)"
   ]
  },
  {
   "cell_type": "code",
   "execution_count": 16,
   "id": "0ee3703c",
   "metadata": {},
   "outputs": [],
   "source": [
    "#6. Clear all elements from a set."
   ]
  },
  {
   "cell_type": "code",
   "execution_count": 17,
   "id": "53839be2",
   "metadata": {},
   "outputs": [
    {
     "data": {
      "text/plain": [
       "set()"
      ]
     },
     "execution_count": 17,
     "metadata": {},
     "output_type": "execute_result"
    }
   ],
   "source": [
    "s = {1,2,3,4,5,6}\n",
    "s.clear()\n",
    "s"
   ]
  },
  {
   "cell_type": "code",
   "execution_count": 18,
   "id": "ed239ae0",
   "metadata": {},
   "outputs": [],
   "source": [
    "#7. Create a set of even numbers from 1 to 10."
   ]
  },
  {
   "cell_type": "code",
   "execution_count": 39,
   "id": "7275713f",
   "metadata": {},
   "outputs": [
    {
     "data": {
      "text/plain": [
       "{2, 4, 6, 8}"
      ]
     },
     "execution_count": 39,
     "metadata": {},
     "output_type": "execute_result"
    }
   ],
   "source": [
    "def iseven(s):\n",
    "    s =  [i for i in range(1,10) if i%2==0] \n",
    "    return set(s)\n",
    "s = {1,2,3,4,5,6,7,8,9,10}\n",
    "ns = iseven(s)\n",
    "ns"
   ]
  },
  {
   "cell_type": "code",
   "execution_count": 40,
   "id": "21ab9474",
   "metadata": {},
   "outputs": [],
   "source": [
    "#8. Create a set of odd numbers from 1 to 10."
   ]
  },
  {
   "cell_type": "code",
   "execution_count": 41,
   "id": "beb163d4",
   "metadata": {},
   "outputs": [
    {
     "data": {
      "text/plain": [
       "{1, 3, 5, 7, 9}"
      ]
     },
     "execution_count": 41,
     "metadata": {},
     "output_type": "execute_result"
    }
   ],
   "source": [
    "def isodd(s):\n",
    "    s =  [i for i in range(1,10) if i%2!=0] \n",
    "    return set(s)\n",
    "s = {1,2,3,4,5,6,7,8,9,10}\n",
    "ns = isodd(s)\n",
    "ns"
   ]
  },
  {
   "cell_type": "code",
   "execution_count": 42,
   "id": "e9e4a142",
   "metadata": {},
   "outputs": [],
   "source": [
    "#9. Find the union of two sets."
   ]
  },
  {
   "cell_type": "code",
   "execution_count": 44,
   "id": "895a1096",
   "metadata": {},
   "outputs": [
    {
     "data": {
      "text/plain": [
       "{1, 2, 3, 4, 5, 6, 7, 8, 9, 10}"
      ]
     },
     "execution_count": 44,
     "metadata": {},
     "output_type": "execute_result"
    }
   ],
   "source": [
    "s1 = {1,2,3,4,5}\n",
    "s2 = {6,7,8,9,10}\n",
    "s1.union(s2)"
   ]
  },
  {
   "cell_type": "code",
   "execution_count": 45,
   "id": "d3995388",
   "metadata": {},
   "outputs": [],
   "source": [
    "#10. Find the intersection of two sets."
   ]
  },
  {
   "cell_type": "code",
   "execution_count": 47,
   "id": "cac5f48f",
   "metadata": {},
   "outputs": [
    {
     "data": {
      "text/plain": [
       "{4, 5}"
      ]
     },
     "execution_count": 47,
     "metadata": {},
     "output_type": "execute_result"
    }
   ],
   "source": [
    "s1 = {1,2,3,4,5}\n",
    "s2 = {4,5,6,7,8}\n",
    "s1.intersection(s2)"
   ]
  },
  {
   "cell_type": "code",
   "execution_count": 48,
   "id": "facb3eaa",
   "metadata": {},
   "outputs": [],
   "source": [
    "#11. Find the difference between two sets."
   ]
  },
  {
   "cell_type": "code",
   "execution_count": 49,
   "id": "7fefced1",
   "metadata": {},
   "outputs": [
    {
     "data": {
      "text/plain": [
       "{1, 2, 3}"
      ]
     },
     "execution_count": 49,
     "metadata": {},
     "output_type": "execute_result"
    }
   ],
   "source": [
    "s1 = {1,2,3,4,5}\n",
    "s2 = {4,5,6,7,8}\n",
    "s1.difference(s2)"
   ]
  },
  {
   "cell_type": "code",
   "execution_count": 50,
   "id": "7604b617",
   "metadata": {},
   "outputs": [],
   "source": [
    "#12. Check if a set is a subset of another set."
   ]
  },
  {
   "cell_type": "code",
   "execution_count": 65,
   "id": "7d3bacee",
   "metadata": {},
   "outputs": [
    {
     "data": {
      "text/plain": [
       "True"
      ]
     },
     "execution_count": 65,
     "metadata": {},
     "output_type": "execute_result"
    }
   ],
   "source": [
    "s1 = {1,2,3,4,5,6}\n",
    "s2 ={1,2,3}\n",
    "s2.issubset(s1)"
   ]
  },
  {
   "cell_type": "code",
   "execution_count": 64,
   "id": "27019055",
   "metadata": {},
   "outputs": [],
   "source": [
    "#13. Check if a set is a superset of another set."
   ]
  },
  {
   "cell_type": "code",
   "execution_count": 66,
   "id": "2748a9c5",
   "metadata": {},
   "outputs": [
    {
     "data": {
      "text/plain": [
       "True"
      ]
     },
     "execution_count": 66,
     "metadata": {},
     "output_type": "execute_result"
    }
   ],
   "source": [
    "s1 = {1,2,3,4,5,6}\n",
    "s2 ={1,2,3}\n",
    "s1.issuperset(s2)"
   ]
  },
  {
   "cell_type": "code",
   "execution_count": 67,
   "id": "cd209b29",
   "metadata": {},
   "outputs": [],
   "source": [
    "#14. Create a set from a list."
   ]
  },
  {
   "cell_type": "code",
   "execution_count": 73,
   "id": "d3b93271",
   "metadata": {},
   "outputs": [
    {
     "data": {
      "text/plain": [
       "{1, 2, 3, 4}"
      ]
     },
     "execution_count": 73,
     "metadata": {},
     "output_type": "execute_result"
    }
   ],
   "source": [
    "l = [1,2,3,4,5,6,7,8]\n",
    "ns = [i for i in l]\n",
    "set(ns[0:4])"
   ]
  },
  {
   "cell_type": "code",
   "execution_count": 74,
   "id": "f54deceb",
   "metadata": {},
   "outputs": [],
   "source": [
    "#15. Convert a set to a list."
   ]
  },
  {
   "cell_type": "code",
   "execution_count": 75,
   "id": "5d97f9ec",
   "metadata": {},
   "outputs": [
    {
     "data": {
      "text/plain": [
       "[1, 2, 3, 4, 5, 6]"
      ]
     },
     "execution_count": 75,
     "metadata": {},
     "output_type": "execute_result"
    }
   ],
   "source": [
    "s = {1,2,3,4,5,6}\n",
    "ns = list(s)\n",
    "ns"
   ]
  },
  {
   "cell_type": "code",
   "execution_count": 76,
   "id": "b86b809a",
   "metadata": {},
   "outputs": [],
   "source": [
    "#16. Remove a random element from a set."
   ]
  },
  {
   "cell_type": "code",
   "execution_count": 87,
   "id": "1834d840",
   "metadata": {},
   "outputs": [
    {
     "name": "stderr",
     "output_type": "stream",
     "text": [
      "C:\\Users\\HARSHAVARDHAN\\AppData\\Local\\Temp/ipykernel_15988/4273639871.py:2: DeprecationWarning: Sampling from a set deprecated\n",
      "since Python 3.9 and will be removed in a subsequent version.\n",
      "  s1 = random.sample(s,1)[0]\n"
     ]
    },
    {
     "data": {
      "text/plain": [
       "{1, 2, 3, 4, 6, 7, 8}"
      ]
     },
     "execution_count": 87,
     "metadata": {},
     "output_type": "execute_result"
    }
   ],
   "source": [
    "s = {1,2,3,4,5,6,7,8}\n",
    "s1 = random.sample(s,1)[0]\n",
    "s.remove(s1)\n",
    "s"
   ]
  },
  {
   "cell_type": "code",
   "execution_count": 88,
   "id": "ae6a0d70",
   "metadata": {},
   "outputs": [],
   "source": [
    "#17. Pop an element from a set."
   ]
  },
  {
   "cell_type": "code",
   "execution_count": 90,
   "id": "6f34e9e5",
   "metadata": {},
   "outputs": [
    {
     "data": {
      "text/plain": [
       "1"
      ]
     },
     "execution_count": 90,
     "metadata": {},
     "output_type": "execute_result"
    }
   ],
   "source": [
    "s = {1,2,3,4,5,6,7,8}\n",
    "s.pop()"
   ]
  },
  {
   "cell_type": "code",
   "execution_count": 91,
   "id": "8fbac8db",
   "metadata": {},
   "outputs": [],
   "source": [
    "#18. Check if two sets have no elements in common."
   ]
  },
  {
   "cell_type": "code",
   "execution_count": 92,
   "id": "2b5a7990",
   "metadata": {},
   "outputs": [
    {
     "name": "stdout",
     "output_type": "stream",
     "text": [
      "True\n"
     ]
    }
   ],
   "source": [
    "s1 = {1,2,3,4,5}\n",
    "s2 = {6,7,8,9,10}\n",
    "ns = [i for i in s2 if i not in s1]\n",
    "print('True')"
   ]
  },
  {
   "cell_type": "code",
   "execution_count": 93,
   "id": "badf3f26",
   "metadata": {},
   "outputs": [
    {
     "data": {
      "text/plain": [
       "set()"
      ]
     },
     "execution_count": 93,
     "metadata": {},
     "output_type": "execute_result"
    }
   ],
   "source": [
    "#another way\n",
    "s1 = {1,2,3,4,5}\n",
    "s2 = {6,7,8,9,10}\n",
    "#intersection\n",
    "s1.intersection(s2)"
   ]
  },
  {
   "cell_type": "code",
   "execution_count": 94,
   "id": "86401f8d",
   "metadata": {},
   "outputs": [],
   "source": [
    "#19. Find the symmetric difference between two sets."
   ]
  },
  {
   "cell_type": "code",
   "execution_count": 96,
   "id": "dc38af96",
   "metadata": {},
   "outputs": [
    {
     "data": {
      "text/plain": [
       "{1, 2, 3, 6, 7, 8}"
      ]
     },
     "execution_count": 96,
     "metadata": {},
     "output_type": "execute_result"
    }
   ],
   "source": [
    "s1 = {1,2,3,4,5}\n",
    "s2 = {4,5,6,7,8}\n",
    "s1.symmetric_difference(s2)"
   ]
  },
  {
   "cell_type": "code",
   "execution_count": 97,
   "id": "ea2b8003",
   "metadata": {},
   "outputs": [],
   "source": [
    "#20. Update a set with elements from another set."
   ]
  },
  {
   "cell_type": "code",
   "execution_count": 101,
   "id": "f64e972e",
   "metadata": {},
   "outputs": [
    {
     "data": {
      "text/plain": [
       "{1, 2, 3, 4, 5, 'pwskills'}"
      ]
     },
     "execution_count": 101,
     "metadata": {},
     "output_type": "execute_result"
    }
   ],
   "source": [
    "s1 = {1,2,3,4,5}\n",
    "s2 = {'pwskills'}\n",
    "s1.update(s2)\n",
    "s1"
   ]
  },
  {
   "cell_type": "code",
   "execution_count": 102,
   "id": "a49b9c71",
   "metadata": {},
   "outputs": [],
   "source": [
    "#21. Create a set of the first 5 prime numbers."
   ]
  },
  {
   "cell_type": "code",
   "execution_count": 106,
   "id": "4384c195",
   "metadata": {},
   "outputs": [
    {
     "data": {
      "text/plain": [
       "{2, 3, 5, 7, 11}"
      ]
     },
     "execution_count": 106,
     "metadata": {},
     "output_type": "execute_result"
    }
   ],
   "source": [
    "s=[]\n",
    "for i in range(2,12):\n",
    "    for j in range(2,12):\n",
    "        if i%j==0:\n",
    "            break\n",
    "    if i==j:\n",
    "        s.append(i)\n",
    "set(s)\n"
   ]
  },
  {
   "cell_type": "code",
   "execution_count": 109,
   "id": "fa8959d7",
   "metadata": {},
   "outputs": [],
   "source": [
    "#22. Check if two sets are identical."
   ]
  },
  {
   "cell_type": "code",
   "execution_count": 118,
   "id": "c80bdc51",
   "metadata": {},
   "outputs": [
    {
     "name": "stdout",
     "output_type": "stream",
     "text": [
      "sets are equal  False\n"
     ]
    }
   ],
   "source": [
    "s1 = {1,2,3,4,5}\n",
    "s2 = {1,4,3,4,5}\n",
    "print('sets are equal ',s1 == s2)"
   ]
  },
  {
   "cell_type": "code",
   "execution_count": 119,
   "id": "234b4302",
   "metadata": {},
   "outputs": [],
   "source": [
    "#23. Create a frozen set."
   ]
  },
  {
   "cell_type": "code",
   "execution_count": 120,
   "id": "3d66c358",
   "metadata": {},
   "outputs": [
    {
     "data": {
      "text/plain": [
       "frozenset({'i', 'k', 'l', 'p', 's', 'w'})"
      ]
     },
     "execution_count": 120,
     "metadata": {},
     "output_type": "execute_result"
    }
   ],
   "source": [
    "s = 'pwskills'\n",
    "fset = frozenset(s)\n",
    "fset"
   ]
  },
  {
   "cell_type": "code",
   "execution_count": 121,
   "id": "a9d1e046",
   "metadata": {},
   "outputs": [],
   "source": [
    "#24. Check if a set is disjoint with another set."
   ]
  },
  {
   "cell_type": "code",
   "execution_count": 124,
   "id": "ef0d58c1",
   "metadata": {},
   "outputs": [
    {
     "data": {
      "text/plain": [
       "True"
      ]
     },
     "execution_count": 124,
     "metadata": {},
     "output_type": "execute_result"
    }
   ],
   "source": [
    "s1 = {1,2,3,4}\n",
    "s2 = {5,6,7,8}\n",
    "s1.isdisjoint(s2)"
   ]
  },
  {
   "cell_type": "code",
   "execution_count": 125,
   "id": "46883dbc",
   "metadata": {},
   "outputs": [],
   "source": [
    "#25. Create a set of squares of numbers from 1 to 5."
   ]
  },
  {
   "cell_type": "code",
   "execution_count": 127,
   "id": "84503f45",
   "metadata": {},
   "outputs": [
    {
     "data": {
      "text/plain": [
       "{1, 4, 9, 16, 25}"
      ]
     },
     "execution_count": 127,
     "metadata": {},
     "output_type": "execute_result"
    }
   ],
   "source": [
    "s1 =[]\n",
    "for i in range(1,6):\n",
    "    s1.append(i*i)\n",
    "set(s1)"
   ]
  },
  {
   "cell_type": "code",
   "execution_count": 128,
   "id": "c2f27404",
   "metadata": {},
   "outputs": [],
   "source": [
    "#26. Filter out all even numbers from a set."
   ]
  },
  {
   "cell_type": "code",
   "execution_count": 130,
   "id": "8d363c28",
   "metadata": {},
   "outputs": [
    {
     "name": "stdout",
     "output_type": "stream",
     "text": [
      "2,4,6,8,10,"
     ]
    }
   ],
   "source": [
    "s = {1,2,3,4,5,6,7,8,9,10,11}\n",
    "for i in s:\n",
    "    if i%2 == 0:\n",
    "        print(i,end=\",\")\n",
    "        "
   ]
  },
  {
   "cell_type": "code",
   "execution_count": 131,
   "id": "1769b1ac",
   "metadata": {},
   "outputs": [],
   "source": [
    "#27. Multiply all elements in a set by 2."
   ]
  },
  {
   "cell_type": "code",
   "execution_count": 132,
   "id": "e43103c6",
   "metadata": {},
   "outputs": [
    {
     "data": {
      "text/plain": [
       "{2, 4, 6, 8, 10}"
      ]
     },
     "execution_count": 132,
     "metadata": {},
     "output_type": "execute_result"
    }
   ],
   "source": [
    "s = {1,2,3,4,5}\n",
    "s1 =[]\n",
    "for i in s:\n",
    "    s1.append(i*2)\n",
    "set(s1)\n",
    "    "
   ]
  },
  {
   "cell_type": "code",
   "execution_count": 133,
   "id": "37e72254",
   "metadata": {},
   "outputs": [],
   "source": [
    "#28. Create a set of random numbers."
   ]
  },
  {
   "cell_type": "code",
   "execution_count": 137,
   "id": "2a89bd33",
   "metadata": {},
   "outputs": [
    {
     "data": {
      "text/plain": [
       "{3, 4, 13, 14, 25, 27, 28, 29}"
      ]
     },
     "execution_count": 137,
     "metadata": {},
     "output_type": "execute_result"
    }
   ],
   "source": [
    "import random\n",
    "s = []\n",
    "for i in range(1,10):\n",
    "    ns = random.randint(1,30)\n",
    "    s.append(ns)\n",
    "set(s)    "
   ]
  },
  {
   "cell_type": "code",
   "execution_count": 138,
   "id": "3f10bcd5",
   "metadata": {},
   "outputs": [],
   "source": [
    "#29. Check if a set is empty."
   ]
  },
  {
   "cell_type": "code",
   "execution_count": 139,
   "id": "fe1b4240",
   "metadata": {},
   "outputs": [
    {
     "name": "stdout",
     "output_type": "stream",
     "text": [
      "the set is empty\n"
     ]
    }
   ],
   "source": [
    "s = {}\n",
    "if len(s)==0:\n",
    "    print('the set is empty')\n",
    "else:\n",
    "    print('the set is not empty')"
   ]
  },
  {
   "cell_type": "code",
   "execution_count": 140,
   "id": "aa8588b9",
   "metadata": {},
   "outputs": [],
   "source": [
    "#30. Create a nested set (hint: use frozenset)."
   ]
  },
  {
   "cell_type": "code",
   "execution_count": 148,
   "id": "ade973f7",
   "metadata": {},
   "outputs": [
    {
     "data": {
      "text/plain": [
       "{frozenset({3, 4}), frozenset({5, 6}), frozenset({1, 2})}"
      ]
     },
     "execution_count": 148,
     "metadata": {},
     "output_type": "execute_result"
    }
   ],
   "source": [
    "s1 = set([frozenset([1,2]),frozenset([3,4]),frozenset([5,6])])\n",
    "s1"
   ]
  },
  {
   "cell_type": "code",
   "execution_count": 149,
   "id": "5a1b0a29",
   "metadata": {},
   "outputs": [],
   "source": [
    "#31. Remove an element from a set using the discard method."
   ]
  },
  {
   "cell_type": "code",
   "execution_count": 152,
   "id": "32134036",
   "metadata": {},
   "outputs": [
    {
     "data": {
      "text/plain": [
       "{1, 2, 3, 4}"
      ]
     },
     "execution_count": 152,
     "metadata": {},
     "output_type": "execute_result"
    }
   ],
   "source": [
    "s = {1,2,3,4,5}\n",
    "s.discard(5)\n",
    "s"
   ]
  },
  {
   "cell_type": "code",
   "execution_count": 153,
   "id": "1c1b8fb7",
   "metadata": {},
   "outputs": [],
   "source": [
    "#32. Compare two sets."
   ]
  },
  {
   "cell_type": "code",
   "execution_count": 154,
   "id": "ddcbc6fe",
   "metadata": {},
   "outputs": [
    {
     "data": {
      "text/plain": [
       "False"
      ]
     },
     "execution_count": 154,
     "metadata": {},
     "output_type": "execute_result"
    }
   ],
   "source": [
    "s1 = {1,2,3,4,5}\n",
    "s2 = {6,7,8,9,10,11}\n",
    "s1>s2"
   ]
  },
  {
   "cell_type": "code",
   "execution_count": 155,
   "id": "5855d8b2",
   "metadata": {},
   "outputs": [],
   "source": [
    "#33. Create a set from a string."
   ]
  },
  {
   "cell_type": "code",
   "execution_count": 168,
   "id": "aa4634b3",
   "metadata": {},
   "outputs": [
    {
     "data": {
      "text/plain": [
       "{'k', 'p', 's', 'w'}"
      ]
     },
     "execution_count": 168,
     "metadata": {},
     "output_type": "execute_result"
    }
   ],
   "source": [
    "s = 'pwskills'\n",
    "set(s[0:4])"
   ]
  },
  {
   "cell_type": "code",
   "execution_count": 157,
   "id": "d98ad764",
   "metadata": {},
   "outputs": [],
   "source": [
    "#34. Convert a set of strings to a set of integers."
   ]
  },
  {
   "cell_type": "code",
   "execution_count": 160,
   "id": "db57786b",
   "metadata": {},
   "outputs": [
    {
     "data": {
      "text/plain": [
       "{1, 2, 3, 4, 5}"
      ]
     },
     "execution_count": 160,
     "metadata": {},
     "output_type": "execute_result"
    }
   ],
   "source": [
    "s = {'1','2','3','4','5'}\n",
    "ns = [eval(i) for i in s]\n",
    "set(ns)"
   ]
  },
  {
   "cell_type": "code",
   "execution_count": 161,
   "id": "8ae1bc91",
   "metadata": {},
   "outputs": [],
   "source": [
    "#35. Convert a set of integers to a set of strings."
   ]
  },
  {
   "cell_type": "code",
   "execution_count": 164,
   "id": "01e12a19",
   "metadata": {},
   "outputs": [
    {
     "data": {
      "text/plain": [
       "{'1', '2', '3', '4', '5'}"
      ]
     },
     "execution_count": 164,
     "metadata": {},
     "output_type": "execute_result"
    }
   ],
   "source": [
    "s = {1, 2, 3, 4, 5}\n",
    "ns = list(map(str,s))\n",
    "set(ns)"
   ]
  },
  {
   "cell_type": "code",
   "execution_count": 165,
   "id": "af357efe",
   "metadata": {},
   "outputs": [],
   "source": [
    "#36. Create a set from a tuple."
   ]
  },
  {
   "cell_type": "code",
   "execution_count": 167,
   "id": "3694e00b",
   "metadata": {},
   "outputs": [
    {
     "data": {
      "text/plain": [
       "{1, 2, 3, 4}"
      ]
     },
     "execution_count": 167,
     "metadata": {},
     "output_type": "execute_result"
    }
   ],
   "source": [
    "t = (1,2,3,4,5,6)\n",
    "ns = set(t[0:4])\n",
    "ns"
   ]
  },
  {
   "cell_type": "code",
   "execution_count": 169,
   "id": "7cb73de1",
   "metadata": {},
   "outputs": [],
   "source": [
    "#37. Convert a set to a tuple."
   ]
  },
  {
   "cell_type": "code",
   "execution_count": 170,
   "id": "3bd211fd",
   "metadata": {},
   "outputs": [
    {
     "data": {
      "text/plain": [
       "(1, 2, 3, 4, 5)"
      ]
     },
     "execution_count": 170,
     "metadata": {},
     "output_type": "execute_result"
    }
   ],
   "source": [
    "s = {1,2,3,4,5}\n",
    "nt = tuple(s)\n",
    "nt"
   ]
  },
  {
   "cell_type": "code",
   "execution_count": 171,
   "id": "bcb696ec",
   "metadata": {},
   "outputs": [],
   "source": [
    "#38. Find the maximum value in a set."
   ]
  },
  {
   "cell_type": "code",
   "execution_count": 175,
   "id": "e9d9a379",
   "metadata": {},
   "outputs": [
    {
     "data": {
      "text/plain": [
       "53"
      ]
     },
     "execution_count": 175,
     "metadata": {},
     "output_type": "execute_result"
    }
   ],
   "source": [
    "s = {12,31,2,16,53}\n",
    "ns = list(s)\n",
    "ms = max(ns)\n",
    "ms"
   ]
  },
  {
   "cell_type": "code",
   "execution_count": 177,
   "id": "8fef49a8",
   "metadata": {},
   "outputs": [
    {
     "data": {
      "text/plain": [
       "2"
      ]
     },
     "execution_count": 177,
     "metadata": {},
     "output_type": "execute_result"
    }
   ],
   "source": [
    "s = {12,31,2,16,53}\n",
    "ns = list(s)\n",
    "ms = min(ns)\n",
    "ms"
   ]
  },
  {
   "cell_type": "code",
   "execution_count": 178,
   "id": "5feab271",
   "metadata": {},
   "outputs": [],
   "source": [
    "#40. Create a set from user input."
   ]
  },
  {
   "cell_type": "code",
   "execution_count": 6,
   "id": "d546e6d2",
   "metadata": {},
   "outputs": [
    {
     "name": "stdout",
     "output_type": "stream",
     "text": [
      "enter 1,2,3,4,5\n"
     ]
    },
    {
     "data": {
      "text/plain": [
       "{'1', '2', '3', '4', '5'}"
      ]
     },
     "execution_count": 6,
     "metadata": {},
     "output_type": "execute_result"
    }
   ],
   "source": [
    "s = input('enter ')\n",
    "ns = s.split(',')\n",
    "set(ns)"
   ]
  },
  {
   "cell_type": "code",
   "execution_count": 7,
   "id": "e4d5543a",
   "metadata": {},
   "outputs": [],
   "source": [
    "#41. Check if the intersection of two sets is empty."
   ]
  },
  {
   "cell_type": "code",
   "execution_count": 20,
   "id": "4301a99d",
   "metadata": {},
   "outputs": [
    {
     "name": "stdout",
     "output_type": "stream",
     "text": [
      "it is empty True\n"
     ]
    }
   ],
   "source": [
    "s1 = {1,2,3}\n",
    "s2 = {4,5,6}\n",
    "s = s1.intersection(s2)\n",
    "if len(s)==0:\n",
    "    print('it is empty',True)\n",
    "else:\n",
    "    print('it is not empty',False)"
   ]
  },
  {
   "cell_type": "code",
   "execution_count": 21,
   "id": "e2935290",
   "metadata": {},
   "outputs": [],
   "source": [
    "#42. Create a set of the first 5 Fibonacci numbers."
   ]
  },
  {
   "cell_type": "code",
   "execution_count": 16,
   "id": "4341838a",
   "metadata": {},
   "outputs": [
    {
     "name": "stdout",
     "output_type": "stream",
     "text": [
      "enter nterms :7\n",
      "{0, 1, 2, 3, 5, 8}\n"
     ]
    }
   ],
   "source": [
    "n = int(input('enter nterms :'))\n",
    "n1 =0\n",
    "n2 =1\n",
    "c =0\n",
    "t =[]\n",
    "while c < n:\n",
    "    t.append(n1)\n",
    "    nth = n1+n2\n",
    "    n1 = n2\n",
    "    n2 = nth\n",
    "    c+= 1\n",
    "print(set(t))# in set duplicate values are removed actual output:{0,1,1,2,3,5,8}"
   ]
  },
  {
   "cell_type": "code",
   "execution_count": 17,
   "id": "7cfd1c80",
   "metadata": {},
   "outputs": [],
   "source": [
    "#43. Remove duplicates from a list using sets."
   ]
  },
  {
   "cell_type": "code",
   "execution_count": 19,
   "id": "40772cbc",
   "metadata": {},
   "outputs": [
    {
     "data": {
      "text/plain": [
       "[1, 2, 3, 4, 5]"
      ]
     },
     "execution_count": 19,
     "metadata": {},
     "output_type": "execute_result"
    }
   ],
   "source": [
    "l = [1,2,3,4,1,5,3,4,1]\n",
    "s = set(l)\n",
    "list(s)"
   ]
  },
  {
   "cell_type": "code",
   "execution_count": 20,
   "id": "1a0909e1",
   "metadata": {},
   "outputs": [],
   "source": [
    "#44. Check if two sets have the same elements, regardless of their count."
   ]
  },
  {
   "cell_type": "code",
   "execution_count": 27,
   "id": "e218fcff",
   "metadata": {},
   "outputs": [
    {
     "name": "stdout",
     "output_type": "stream",
     "text": [
      "the two sets have the same elements\n"
     ]
    }
   ],
   "source": [
    "def same(l1,l2):\n",
    "    s1 = set(l1)\n",
    "    s2 = set(l2)\n",
    "    \n",
    "    if s1 == s2:\n",
    "        return True\n",
    "    else:\n",
    "        return False\n",
    "l1 = [1,2,3,4,5,6,7]\n",
    "l2 = [4,5,7,3,6,1,2]\n",
    "\n",
    "if same(l1,l2):\n",
    "    print('the two sets have the same elements')\n",
    "else:\n",
    "    print('the two sets have different elements')\n"
   ]
  },
  {
   "cell_type": "code",
   "execution_count": 28,
   "id": "5f617f42",
   "metadata": {},
   "outputs": [],
   "source": [
    "#45. Create a set of the first `n` powers of 2."
   ]
  },
  {
   "cell_type": "code",
   "execution_count": 32,
   "id": "273b12db",
   "metadata": {},
   "outputs": [
    {
     "data": {
      "text/plain": [
       "{2, 4, 8, 16, 32, 64, 128, 256, 512}"
      ]
     },
     "execution_count": 32,
     "metadata": {},
     "output_type": "execute_result"
    }
   ],
   "source": [
    "s =[]\n",
    "for i in range(1,10):\n",
    "    s.append(2**i)\n",
    "ns = set(s)\n",
    "ns"
   ]
  },
  {
   "cell_type": "code",
   "execution_count": 33,
   "id": "8884c82c",
   "metadata": {},
   "outputs": [],
   "source": [
    "#46. Find the common elements between a set and a list."
   ]
  },
  {
   "cell_type": "code",
   "execution_count": 35,
   "id": "8e43b9ea",
   "metadata": {},
   "outputs": [
    {
     "data": {
      "text/plain": [
       "{4, 5, 6, 7}"
      ]
     },
     "execution_count": 35,
     "metadata": {},
     "output_type": "execute_result"
    }
   ],
   "source": [
    "l =[1,2,3,4,5,6,7]\n",
    "s ={4,5,6,7,8,9,10}\n",
    "s.intersection(set(l))"
   ]
  },
  {
   "cell_type": "code",
   "execution_count": 36,
   "id": "753bbb74",
   "metadata": {},
   "outputs": [],
   "source": [
    "#48. Check if a set contains another set as a subset."
   ]
  },
  {
   "cell_type": "code",
   "execution_count": 37,
   "id": "4c962779",
   "metadata": {},
   "outputs": [
    {
     "data": {
      "text/plain": [
       "True"
      ]
     },
     "execution_count": 37,
     "metadata": {},
     "output_type": "execute_result"
    }
   ],
   "source": [
    "s1 = {1,2,3,4,5,6,7}\n",
    "s2={1,2,3}\n",
    "s2.issubset(s1)"
   ]
  },
  {
   "cell_type": "code",
   "execution_count": 38,
   "id": "bb2a7aee",
   "metadata": {},
   "outputs": [],
   "source": [
    "#50. Merge multiple sets into one."
   ]
  },
  {
   "cell_type": "code",
   "execution_count": 40,
   "id": "ea5ed7b2",
   "metadata": {},
   "outputs": [
    {
     "data": {
      "text/plain": [
       "{1, 2, 3, 4, 5, 6, 7, 8, 9, 10}"
      ]
     },
     "execution_count": 40,
     "metadata": {},
     "output_type": "execute_result"
    }
   ],
   "source": [
    "s1 = {1,2,3}\n",
    "s2 = {4,5,6}\n",
    "s3 = {7,8,9}\n",
    "s.union(s1,s2,s3)"
   ]
  },
  {
   "cell_type": "code",
   "execution_count": null,
   "id": "06e85baa",
   "metadata": {},
   "outputs": [],
   "source": []
  }
 ],
 "metadata": {
  "kernelspec": {
   "display_name": "Python 3 (ipykernel)",
   "language": "python",
   "name": "python3"
  },
  "language_info": {
   "codemirror_mode": {
    "name": "ipython",
    "version": 3
   },
   "file_extension": ".py",
   "mimetype": "text/x-python",
   "name": "python",
   "nbconvert_exporter": "python",
   "pygments_lexer": "ipython3",
   "version": "3.9.7"
  }
 },
 "nbformat": 4,
 "nbformat_minor": 5
}
